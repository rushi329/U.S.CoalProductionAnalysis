{
 "cells": [
  {
   "cell_type": "markdown",
   "id": "a62bd9e5",
   "metadata": {},
   "source": [
    "# Group-8\n",
    "# Mini-Project\n",
    "# Model 2"
   ]
  },
  {
   "cell_type": "markdown",
   "id": "87611253",
   "metadata": {},
   "source": [
    "### GROUP MEMBERS :  SHIVAM YADAV , RUSHIKESH GOSKI , RANJAN SUTRADHAR , VAISHNAVI TAMBE , JAYDHAWAL MADWANNA"
   ]
  },
  {
   "cell_type": "markdown",
   "id": "79709324",
   "metadata": {},
   "source": [
    "## ABSTRACT\n",
    " We  Used 2013-19 The Coal Production Dataset From The U.S. Energy Information Administration's (EIA) as an exercise for Random Forest Regressor.  The EIA uses the data for coal supply analyses and in short-term modeling efforts, which produce forecasts of coal supply and prices requested by Congress. The forecast data also appear in the Short-Term Energy Outlook and the Annual Energy Outlook."
   ]
  },
  {
   "cell_type": "markdown",
   "id": "ab2de9b0",
   "metadata": {},
   "source": [
    "## Implementation Details\n",
    "* Data Source: https://www.eia.gov/coal/data.php\n",
    "* Data Split: (70% 30%)\n",
    "* Model: Random Forest Regressor \n",
    "* Model evalaution:  R^2, Mean Absolute Error, Mean Squared Error and Mean Absolute Percentage Error."
   ]
  },
  {
   "cell_type": "markdown",
   "id": "7a308630",
   "metadata": {},
   "source": [
    "### Importing Necessary Libraries"
   ]
  },
  {
   "cell_type": "code",
   "execution_count": 1,
   "id": "bddd3a78",
   "metadata": {},
   "outputs": [],
   "source": [
    "import numpy as np\n",
    "import pandas as pd\n",
    "import seaborn as sns\n",
    "import matplotlib.pyplot as plt  \n",
    "from sklearn.model_selection import train_test_split"
   ]
  },
  {
   "cell_type": "markdown",
   "id": "882900e2",
   "metadata": {},
   "source": [
    "### Loading CSV File in Pandas DataFrame\n",
    "### Dataset ref: https://www.eia.gov/coal/data.php"
   ]
  },
  {
   "cell_type": "code",
   "execution_count": 2,
   "id": "84b7f7f2",
   "metadata": {},
   "outputs": [
    {
     "data": {
      "text/html": [
       "<div>\n",
       "<style scoped>\n",
       "    .dataframe tbody tr th:only-of-type {\n",
       "        vertical-align: middle;\n",
       "    }\n",
       "\n",
       "    .dataframe tbody tr th {\n",
       "        vertical-align: top;\n",
       "    }\n",
       "\n",
       "    .dataframe thead th {\n",
       "        text-align: right;\n",
       "    }\n",
       "</style>\n",
       "<table border=\"1\" class=\"dataframe\">\n",
       "  <thead>\n",
       "    <tr style=\"text-align: right;\">\n",
       "      <th></th>\n",
       "      <th>Year</th>\n",
       "      <th>MSHA ID</th>\n",
       "      <th>Mine Name</th>\n",
       "      <th>Mine State</th>\n",
       "      <th>Mine County</th>\n",
       "      <th>Mine Status</th>\n",
       "      <th>Mine Type</th>\n",
       "      <th>Company Type</th>\n",
       "      <th>Operation Type</th>\n",
       "      <th>Operating Company</th>\n",
       "      <th>Operating Company Address</th>\n",
       "      <th>Union Code</th>\n",
       "      <th>Coal Supply Region</th>\n",
       "      <th>Production (short tons)</th>\n",
       "      <th>Average Employees</th>\n",
       "      <th>Labor Hours</th>\n",
       "    </tr>\n",
       "  </thead>\n",
       "  <tbody>\n",
       "    <tr>\n",
       "      <th>0</th>\n",
       "      <td>2013</td>\n",
       "      <td>103381</td>\n",
       "      <td>Tacoa Highwall Miner</td>\n",
       "      <td>Alabama</td>\n",
       "      <td>Bibb</td>\n",
       "      <td>Active, men working, not producing</td>\n",
       "      <td>Surface</td>\n",
       "      <td>Indepedent Producer Operator</td>\n",
       "      <td>Mine only</td>\n",
       "      <td>Jesse Creek Mining, Llc</td>\n",
       "      <td>1615 Kent Dairy Rd, Alabaster, AL 35007</td>\n",
       "      <td></td>\n",
       "      <td>Appalachia Southern</td>\n",
       "      <td>56004</td>\n",
       "      <td>10</td>\n",
       "      <td>22392</td>\n",
       "    </tr>\n",
       "    <tr>\n",
       "      <th>1</th>\n",
       "      <td>2013</td>\n",
       "      <td>103404</td>\n",
       "      <td>Reid School Mine</td>\n",
       "      <td>Alabama</td>\n",
       "      <td>Blount</td>\n",
       "      <td>Permanently abandoned</td>\n",
       "      <td>Surface</td>\n",
       "      <td>Indepedent Producer Operator</td>\n",
       "      <td>Mine only</td>\n",
       "      <td>Taft Coal Sales &amp; Associates,</td>\n",
       "      <td>3000 Riverchase Galleria Ste 1, Birmingham, AL...</td>\n",
       "      <td>UNIT</td>\n",
       "      <td>Appalachia Southern</td>\n",
       "      <td>28807</td>\n",
       "      <td>18</td>\n",
       "      <td>28447</td>\n",
       "    </tr>\n",
       "    <tr>\n",
       "      <th>2</th>\n",
       "      <td>2013</td>\n",
       "      <td>100759</td>\n",
       "      <td>North River #1 Underground Min</td>\n",
       "      <td>Alabama</td>\n",
       "      <td>Fayette</td>\n",
       "      <td>Active, men working, not producing</td>\n",
       "      <td>Underground</td>\n",
       "      <td>Indepedent Producer Operator</td>\n",
       "      <td>Mine and Preparation Plant</td>\n",
       "      <td>Jim Walter Resources Inc</td>\n",
       "      <td>3114 County Rd 63 S, Berry, AL 35546</td>\n",
       "      <td>UNIT</td>\n",
       "      <td>Appalachia Southern</td>\n",
       "      <td>1440115</td>\n",
       "      <td>183</td>\n",
       "      <td>474784</td>\n",
       "    </tr>\n",
       "    <tr>\n",
       "      <th>3</th>\n",
       "      <td>2013</td>\n",
       "      <td>103246</td>\n",
       "      <td>Bear Creek</td>\n",
       "      <td>Alabama</td>\n",
       "      <td>Franklin</td>\n",
       "      <td>Active</td>\n",
       "      <td>Surface</td>\n",
       "      <td>Indepedent Producer Operator</td>\n",
       "      <td>Mine only</td>\n",
       "      <td>Birmingham Coal &amp; Coke Co., In</td>\n",
       "      <td>912 Edenton Street, Birmingham, AL 35242</td>\n",
       "      <td></td>\n",
       "      <td>Appalachia Southern</td>\n",
       "      <td>87587</td>\n",
       "      <td>13</td>\n",
       "      <td>29193</td>\n",
       "    </tr>\n",
       "    <tr>\n",
       "      <th>4</th>\n",
       "      <td>2013</td>\n",
       "      <td>103451</td>\n",
       "      <td>Knight Mine</td>\n",
       "      <td>Alabama</td>\n",
       "      <td>Franklin</td>\n",
       "      <td>Active</td>\n",
       "      <td>Surface</td>\n",
       "      <td>Indepedent Producer Operator</td>\n",
       "      <td>Mine only</td>\n",
       "      <td>Birmingham Coal &amp; Coke Co., In</td>\n",
       "      <td>P.O. Box 354, Lynn, AL 35242</td>\n",
       "      <td></td>\n",
       "      <td>Appalachia Southern</td>\n",
       "      <td>147499</td>\n",
       "      <td>27</td>\n",
       "      <td>46393</td>\n",
       "    </tr>\n",
       "  </tbody>\n",
       "</table>\n",
       "</div>"
      ],
      "text/plain": [
       "   Year  MSHA ID                       Mine Name Mine State Mine County  \\\n",
       "0  2013   103381            Tacoa Highwall Miner    Alabama        Bibb   \n",
       "1  2013   103404                Reid School Mine    Alabama      Blount   \n",
       "2  2013   100759  North River #1 Underground Min    Alabama     Fayette   \n",
       "3  2013   103246                      Bear Creek    Alabama    Franklin   \n",
       "4  2013   103451                     Knight Mine    Alabama    Franklin   \n",
       "\n",
       "                          Mine Status    Mine Type  \\\n",
       "0  Active, men working, not producing      Surface   \n",
       "1               Permanently abandoned      Surface   \n",
       "2  Active, men working, not producing  Underground   \n",
       "3                              Active      Surface   \n",
       "4                              Active      Surface   \n",
       "\n",
       "                   Company Type              Operation Type  \\\n",
       "0  Indepedent Producer Operator                   Mine only   \n",
       "1  Indepedent Producer Operator                   Mine only   \n",
       "2  Indepedent Producer Operator  Mine and Preparation Plant   \n",
       "3  Indepedent Producer Operator                   Mine only   \n",
       "4  Indepedent Producer Operator                   Mine only   \n",
       "\n",
       "                Operating Company  \\\n",
       "0         Jesse Creek Mining, Llc   \n",
       "1   Taft Coal Sales & Associates,   \n",
       "2        Jim Walter Resources Inc   \n",
       "3  Birmingham Coal & Coke Co., In   \n",
       "4  Birmingham Coal & Coke Co., In   \n",
       "\n",
       "                           Operating Company Address Union Code  \\\n",
       "0            1615 Kent Dairy Rd, Alabaster, AL 35007              \n",
       "1  3000 Riverchase Galleria Ste 1, Birmingham, AL...       UNIT   \n",
       "2               3114 County Rd 63 S, Berry, AL 35546       UNIT   \n",
       "3           912 Edenton Street, Birmingham, AL 35242              \n",
       "4                       P.O. Box 354, Lynn, AL 35242              \n",
       "\n",
       "    Coal Supply Region  Production (short tons)  Average Employees  \\\n",
       "0  Appalachia Southern                    56004                 10   \n",
       "1  Appalachia Southern                    28807                 18   \n",
       "2  Appalachia Southern                  1440115                183   \n",
       "3  Appalachia Southern                    87587                 13   \n",
       "4  Appalachia Southern                   147499                 27   \n",
       "\n",
       "   Labor Hours  \n",
       "0        22392  \n",
       "1        28447  \n",
       "2       474784  \n",
       "3        29193  \n",
       "4        46393  "
      ]
     },
     "execution_count": 2,
     "metadata": {},
     "output_type": "execute_result"
    }
   ],
   "source": [
    "df = pd.read_csv('2013-19.csv', encoding = \"ISO-8859-1\")\n",
    "df.head(5)"
   ]
  },
  {
   "cell_type": "code",
   "execution_count": 3,
   "id": "e18bc243",
   "metadata": {},
   "outputs": [
    {
     "data": {
      "text/html": [
       "<div>\n",
       "<style scoped>\n",
       "    .dataframe tbody tr th:only-of-type {\n",
       "        vertical-align: middle;\n",
       "    }\n",
       "\n",
       "    .dataframe tbody tr th {\n",
       "        vertical-align: top;\n",
       "    }\n",
       "\n",
       "    .dataframe thead th {\n",
       "        text-align: right;\n",
       "    }\n",
       "</style>\n",
       "<table border=\"1\" class=\"dataframe\">\n",
       "  <thead>\n",
       "    <tr style=\"text-align: right;\">\n",
       "      <th></th>\n",
       "      <th>Year</th>\n",
       "      <th>MSHA ID</th>\n",
       "      <th>Mine Name</th>\n",
       "      <th>Mine State</th>\n",
       "      <th>Mine County</th>\n",
       "      <th>Mine Status</th>\n",
       "      <th>Mine Type</th>\n",
       "      <th>Company Type</th>\n",
       "      <th>Operation Type</th>\n",
       "      <th>Operating Company</th>\n",
       "      <th>Operating Company Address</th>\n",
       "      <th>Union Code</th>\n",
       "      <th>Coal Supply Region</th>\n",
       "      <th>Production (short tons)</th>\n",
       "      <th>Average Employees</th>\n",
       "      <th>Labor Hours</th>\n",
       "    </tr>\n",
       "  </thead>\n",
       "  <tbody>\n",
       "    <tr>\n",
       "      <th>7773</th>\n",
       "      <td>2019</td>\n",
       "      <td>3609843</td>\n",
       "      <td>Atlas Anthracite Coal Corporat</td>\n",
       "      <td>Refuse Recovery</td>\n",
       "      <td>Northumberland</td>\n",
       "      <td>Active</td>\n",
       "      <td>Refuse</td>\n",
       "      <td>Indepedent Producer Operator</td>\n",
       "      <td>Mine and Preparation Plant</td>\n",
       "      <td>D. Molesevich &amp; Sons Construct</td>\n",
       "      <td>P.O. Box 121, Mount Carmel, PA 17851</td>\n",
       "      <td>NaN</td>\n",
       "      <td>Appalachia Northern</td>\n",
       "      <td>443</td>\n",
       "      <td>2</td>\n",
       "      <td>3835</td>\n",
       "    </tr>\n",
       "    <tr>\n",
       "      <th>7774</th>\n",
       "      <td>2019</td>\n",
       "      <td>3609178</td>\n",
       "      <td>Rausch Creek Coal Mining Branc</td>\n",
       "      <td>Refuse Recovery</td>\n",
       "      <td>Schuylkill</td>\n",
       "      <td>Temporarily closed</td>\n",
       "      <td>Refuse</td>\n",
       "      <td>Indepedent Producer Operator</td>\n",
       "      <td>Mine only</td>\n",
       "      <td>Rausch Creek Coal Mining Branc</td>\n",
       "      <td>P.O. Box 8, Williamstown, PA 17098</td>\n",
       "      <td>NaN</td>\n",
       "      <td>Appalachia Northern</td>\n",
       "      <td>11171</td>\n",
       "      <td>12</td>\n",
       "      <td>9245</td>\n",
       "    </tr>\n",
       "    <tr>\n",
       "      <th>7775</th>\n",
       "      <td>2019</td>\n",
       "      <td>1103131</td>\n",
       "      <td>Bcr Mine #1</td>\n",
       "      <td>Refuse Recovery</td>\n",
       "      <td>Perry</td>\n",
       "      <td>Active</td>\n",
       "      <td>Refuse</td>\n",
       "      <td>Indepedent Producer Operator</td>\n",
       "      <td>Mine only</td>\n",
       "      <td>Elk Land Holdings, Llc</td>\n",
       "      <td>2206 Samuel Stuart Ct., Chesterfield, MO 63005</td>\n",
       "      <td>NaN</td>\n",
       "      <td>Illinois Basin</td>\n",
       "      <td>67586</td>\n",
       "      <td>7</td>\n",
       "      <td>14502</td>\n",
       "    </tr>\n",
       "    <tr>\n",
       "      <th>7776</th>\n",
       "      <td>2019</td>\n",
       "      <td>1519450</td>\n",
       "      <td>Bmm Refuse No. 1</td>\n",
       "      <td>Refuse Recovery</td>\n",
       "      <td>Pike</td>\n",
       "      <td>Active, men working, not producing</td>\n",
       "      <td>Refuse</td>\n",
       "      <td>Operating Subsidiary</td>\n",
       "      <td>Mine only</td>\n",
       "      <td>T.L.T. Resources Corp.</td>\n",
       "      <td>P.O. Box 215, Kimper, KY 41539</td>\n",
       "      <td>NaN</td>\n",
       "      <td>Appalachia Central</td>\n",
       "      <td>26483</td>\n",
       "      <td>11</td>\n",
       "      <td>21466</td>\n",
       "    </tr>\n",
       "    <tr>\n",
       "      <th>7777</th>\n",
       "      <td>2019</td>\n",
       "      <td>4407385</td>\n",
       "      <td>Looney Creek</td>\n",
       "      <td>Refuse Recovery</td>\n",
       "      <td>Wise</td>\n",
       "      <td>Permanently abandoned</td>\n",
       "      <td>Refuse</td>\n",
       "      <td>Indepedent Producer Operator</td>\n",
       "      <td>Mine only</td>\n",
       "      <td>Mountain Fuels Inc.</td>\n",
       "      <td>P.O. Box 749, Abingdon, VA 24212</td>\n",
       "      <td>NaN</td>\n",
       "      <td>Appalachia Central</td>\n",
       "      <td>22939</td>\n",
       "      <td>8</td>\n",
       "      <td>3413</td>\n",
       "    </tr>\n",
       "  </tbody>\n",
       "</table>\n",
       "</div>"
      ],
      "text/plain": [
       "      Year  MSHA ID                       Mine Name       Mine State  \\\n",
       "7773  2019  3609843  Atlas Anthracite Coal Corporat  Refuse Recovery   \n",
       "7774  2019  3609178  Rausch Creek Coal Mining Branc  Refuse Recovery   \n",
       "7775  2019  1103131                     Bcr Mine #1  Refuse Recovery   \n",
       "7776  2019  1519450                Bmm Refuse No. 1  Refuse Recovery   \n",
       "7777  2019  4407385                    Looney Creek  Refuse Recovery   \n",
       "\n",
       "         Mine County                         Mine Status Mine Type  \\\n",
       "7773  Northumberland                              Active    Refuse   \n",
       "7774      Schuylkill                  Temporarily closed    Refuse   \n",
       "7775           Perry                              Active    Refuse   \n",
       "7776            Pike  Active, men working, not producing    Refuse   \n",
       "7777            Wise               Permanently abandoned    Refuse   \n",
       "\n",
       "                      Company Type              Operation Type  \\\n",
       "7773  Indepedent Producer Operator  Mine and Preparation Plant   \n",
       "7774  Indepedent Producer Operator                   Mine only   \n",
       "7775  Indepedent Producer Operator                   Mine only   \n",
       "7776          Operating Subsidiary                   Mine only   \n",
       "7777  Indepedent Producer Operator                   Mine only   \n",
       "\n",
       "                   Operating Company  \\\n",
       "7773  D. Molesevich & Sons Construct   \n",
       "7774  Rausch Creek Coal Mining Branc   \n",
       "7775          Elk Land Holdings, Llc   \n",
       "7776          T.L.T. Resources Corp.   \n",
       "7777             Mountain Fuels Inc.   \n",
       "\n",
       "                           Operating Company Address Union Code  \\\n",
       "7773            P.O. Box 121, Mount Carmel, PA 17851        NaN   \n",
       "7774              P.O. Box 8, Williamstown, PA 17098        NaN   \n",
       "7775  2206 Samuel Stuart Ct., Chesterfield, MO 63005        NaN   \n",
       "7776                  P.O. Box 215, Kimper, KY 41539        NaN   \n",
       "7777                P.O. Box 749, Abingdon, VA 24212        NaN   \n",
       "\n",
       "       Coal Supply Region  Production (short tons)  Average Employees  \\\n",
       "7773  Appalachia Northern                      443                  2   \n",
       "7774  Appalachia Northern                    11171                 12   \n",
       "7775       Illinois Basin                    67586                  7   \n",
       "7776   Appalachia Central                    26483                 11   \n",
       "7777   Appalachia Central                    22939                  8   \n",
       "\n",
       "      Labor Hours  \n",
       "7773         3835  \n",
       "7774         9245  \n",
       "7775        14502  \n",
       "7776        21466  \n",
       "7777         3413  "
      ]
     },
     "execution_count": 3,
     "metadata": {},
     "output_type": "execute_result"
    }
   ],
   "source": [
    "df.tail(5)"
   ]
  },
  {
   "cell_type": "markdown",
   "id": "7061f6c2",
   "metadata": {},
   "source": [
    "### Our Dataset Contains\n",
    "7778 Rows\n",
    "16 Columns"
   ]
  },
  {
   "cell_type": "code",
   "execution_count": 4,
   "id": "b817d44c",
   "metadata": {},
   "outputs": [
    {
     "name": "stdout",
     "output_type": "stream",
     "text": [
      "Shape of the dataset: (7778, 16)\n"
     ]
    }
   ],
   "source": [
    "print(\"Shape of the dataset:\",df.shape)"
   ]
  },
  {
   "cell_type": "markdown",
   "id": "ae5af7c3",
   "metadata": {},
   "source": [
    "### Here We are checking the datatypes of attributes in our dataset. "
   ]
  },
  {
   "cell_type": "code",
   "execution_count": 5,
   "id": "3ccff828",
   "metadata": {},
   "outputs": [
    {
     "data": {
      "text/plain": [
       "Year                          int64\n",
       "MSHA ID                       int64\n",
       "Mine Name                    object\n",
       "Mine State                   object\n",
       "Mine County                  object\n",
       "Mine Status                  object\n",
       "Mine Type                    object\n",
       "Company Type                 object\n",
       "Operation Type               object\n",
       "Operating Company            object\n",
       "Operating Company Address    object\n",
       "Union Code                   object\n",
       "Coal Supply Region           object\n",
       "Production (short tons)       int64\n",
       "Average Employees             int64\n",
       "Labor Hours                   int64\n",
       "dtype: object"
      ]
     },
     "execution_count": 5,
     "metadata": {},
     "output_type": "execute_result"
    }
   ],
   "source": [
    "df.dtypes"
   ]
  },
  {
   "cell_type": "markdown",
   "id": "3708a2d0",
   "metadata": {},
   "source": [
    "### Here is the summary of the dataset."
   ]
  },
  {
   "cell_type": "code",
   "execution_count": 6,
   "id": "23fcb0f6",
   "metadata": {},
   "outputs": [
    {
     "name": "stdout",
     "output_type": "stream",
     "text": [
      "<class 'pandas.core.frame.DataFrame'>\n",
      "RangeIndex: 7778 entries, 0 to 7777\n",
      "Data columns (total 16 columns):\n",
      " #   Column                     Non-Null Count  Dtype \n",
      "---  ------                     --------------  ----- \n",
      " 0   Year                       7778 non-null   int64 \n",
      " 1   MSHA ID                    7778 non-null   int64 \n",
      " 2   Mine Name                  7778 non-null   object\n",
      " 3   Mine State                 7778 non-null   object\n",
      " 4   Mine County                7778 non-null   object\n",
      " 5   Mine Status                7778 non-null   object\n",
      " 6   Mine Type                  7778 non-null   object\n",
      " 7   Company Type               7778 non-null   object\n",
      " 8   Operation Type             7778 non-null   object\n",
      " 9   Operating Company          7778 non-null   object\n",
      " 10  Operating Company Address  7778 non-null   object\n",
      " 11  Union Code                 1924 non-null   object\n",
      " 12  Coal Supply Region         7778 non-null   object\n",
      " 13  Production (short tons)    7778 non-null   int64 \n",
      " 14  Average Employees          7778 non-null   int64 \n",
      " 15  Labor Hours                7778 non-null   int64 \n",
      "dtypes: int64(5), object(11)\n",
      "memory usage: 972.4+ KB\n"
     ]
    }
   ],
   "source": [
    "df.info()"
   ]
  },
  {
   "cell_type": "markdown",
   "id": "61aadbff",
   "metadata": {},
   "source": [
    "### The describe() method is used for calculating some statistical data like percentile, mean and std of the numerical values of the Series or DataFrame. Here, we can see mean & Standard Deviation does not Deviate largly. Quartile Range 25% to 75% also doesn't Deviate."
   ]
  },
  {
   "cell_type": "code",
   "execution_count": 7,
   "id": "c037882c",
   "metadata": {},
   "outputs": [
    {
     "data": {
      "text/html": [
       "<div>\n",
       "<style scoped>\n",
       "    .dataframe tbody tr th:only-of-type {\n",
       "        vertical-align: middle;\n",
       "    }\n",
       "\n",
       "    .dataframe tbody tr th {\n",
       "        vertical-align: top;\n",
       "    }\n",
       "\n",
       "    .dataframe thead th {\n",
       "        text-align: right;\n",
       "    }\n",
       "</style>\n",
       "<table border=\"1\" class=\"dataframe\">\n",
       "  <thead>\n",
       "    <tr style=\"text-align: right;\">\n",
       "      <th></th>\n",
       "      <th>Year</th>\n",
       "      <th>MSHA ID</th>\n",
       "      <th>Production (short tons)</th>\n",
       "      <th>Average Employees</th>\n",
       "      <th>Labor Hours</th>\n",
       "    </tr>\n",
       "  </thead>\n",
       "  <tbody>\n",
       "    <tr>\n",
       "      <th>count</th>\n",
       "      <td>7778.000000</td>\n",
       "      <td>7.778000e+03</td>\n",
       "      <td>7.778000e+03</td>\n",
       "      <td>7778.000000</td>\n",
       "      <td>7.778000e+03</td>\n",
       "    </tr>\n",
       "    <tr>\n",
       "      <th>mean</th>\n",
       "      <td>2015.660838</td>\n",
       "      <td>3.057326e+06</td>\n",
       "      <td>7.517708e+05</td>\n",
       "      <td>55.609283</td>\n",
       "      <td>1.230688e+05</td>\n",
       "    </tr>\n",
       "    <tr>\n",
       "      <th>std</th>\n",
       "      <td>2.023054</td>\n",
       "      <td>1.434246e+06</td>\n",
       "      <td>4.473922e+06</td>\n",
       "      <td>119.086046</td>\n",
       "      <td>2.681316e+05</td>\n",
       "    </tr>\n",
       "    <tr>\n",
       "      <th>min</th>\n",
       "      <td>2013.000000</td>\n",
       "      <td>1.003290e+05</td>\n",
       "      <td>0.000000e+00</td>\n",
       "      <td>0.000000</td>\n",
       "      <td>8.000000e+00</td>\n",
       "    </tr>\n",
       "    <tr>\n",
       "      <th>25%</th>\n",
       "      <td>2014.000000</td>\n",
       "      <td>1.519165e+06</td>\n",
       "      <td>0.000000e+00</td>\n",
       "      <td>6.000000</td>\n",
       "      <td>8.806250e+03</td>\n",
       "    </tr>\n",
       "    <tr>\n",
       "      <th>50%</th>\n",
       "      <td>2015.000000</td>\n",
       "      <td>3.608273e+06</td>\n",
       "      <td>3.087200e+04</td>\n",
       "      <td>16.000000</td>\n",
       "      <td>3.105250e+04</td>\n",
       "    </tr>\n",
       "    <tr>\n",
       "      <th>75%</th>\n",
       "      <td>2017.000000</td>\n",
       "      <td>4.407308e+06</td>\n",
       "      <td>2.281552e+05</td>\n",
       "      <td>44.000000</td>\n",
       "      <td>1.009135e+05</td>\n",
       "    </tr>\n",
       "    <tr>\n",
       "      <th>max</th>\n",
       "      <td>2019.000000</td>\n",
       "      <td>5.000030e+06</td>\n",
       "      <td>1.179655e+08</td>\n",
       "      <td>1628.000000</td>\n",
       "      <td>3.349283e+06</td>\n",
       "    </tr>\n",
       "  </tbody>\n",
       "</table>\n",
       "</div>"
      ],
      "text/plain": [
       "              Year       MSHA ID  Production (short tons)  Average Employees  \\\n",
       "count  7778.000000  7.778000e+03             7.778000e+03        7778.000000   \n",
       "mean   2015.660838  3.057326e+06             7.517708e+05          55.609283   \n",
       "std       2.023054  1.434246e+06             4.473922e+06         119.086046   \n",
       "min    2013.000000  1.003290e+05             0.000000e+00           0.000000   \n",
       "25%    2014.000000  1.519165e+06             0.000000e+00           6.000000   \n",
       "50%    2015.000000  3.608273e+06             3.087200e+04          16.000000   \n",
       "75%    2017.000000  4.407308e+06             2.281552e+05          44.000000   \n",
       "max    2019.000000  5.000030e+06             1.179655e+08        1628.000000   \n",
       "\n",
       "        Labor Hours  \n",
       "count  7.778000e+03  \n",
       "mean   1.230688e+05  \n",
       "std    2.681316e+05  \n",
       "min    8.000000e+00  \n",
       "25%    8.806250e+03  \n",
       "50%    3.105250e+04  \n",
       "75%    1.009135e+05  \n",
       "max    3.349283e+06  "
      ]
     },
     "execution_count": 7,
     "metadata": {},
     "output_type": "execute_result"
    }
   ],
   "source": [
    "df.describe()"
   ]
  },
  {
   "cell_type": "markdown",
   "id": "3528922c",
   "metadata": {},
   "source": [
    "### Here we can see that we have UnionCode which have null values."
   ]
  },
  {
   "cell_type": "code",
   "execution_count": 8,
   "id": "3c9bd738",
   "metadata": {},
   "outputs": [
    {
     "data": {
      "text/plain": [
       "Year                            0\n",
       "MSHA ID                         0\n",
       "Mine Name                       0\n",
       "Mine State                      0\n",
       "Mine County                     0\n",
       "Mine Status                     0\n",
       "Mine Type                       0\n",
       "Company Type                    0\n",
       "Operation Type                  0\n",
       "Operating Company               0\n",
       "Operating Company Address       0\n",
       "Union Code                   5854\n",
       "Coal Supply Region              0\n",
       "Production (short tons)         0\n",
       "Average Employees               0\n",
       "Labor Hours                     0\n",
       "dtype: int64"
      ]
     },
     "execution_count": 8,
     "metadata": {},
     "output_type": "execute_result"
    }
   ],
   "source": [
    "df.isnull().sum()"
   ]
  },
  {
   "cell_type": "markdown",
   "id": "9c446baf",
   "metadata": {},
   "source": [
    "### We just did a go through of unique values of attributes."
   ]
  },
  {
   "cell_type": "code",
   "execution_count": 9,
   "id": "de5d139f",
   "metadata": {},
   "outputs": [
    {
     "name": "stdout",
     "output_type": "stream",
     "text": [
      "Checking Unique values\n",
      "\n",
      "Mine County : \n",
      " ['Bibb' 'Blount' 'Fayette' 'Franklin' 'Jackson' 'Jefferson' 'Shelby'\n",
      " 'Tuscaloosa' 'Walker' 'Winston' 'Fairbanks North Star' 'Navajo'\n",
      " 'Sebastian' 'Delta' 'Gunnison' 'La Plata' 'Las Animas' 'Moffat'\n",
      " 'Montrose' 'Rio Blanco' 'Routt' 'Gallatin' 'Hamilton' 'Macoupin'\n",
      " 'Montgomery' 'Perry' 'Randolph' 'St Clair' 'Saline' 'Sangamon' 'Wabash'\n",
      " 'Washington' 'White' 'Williamson' 'Clay' 'Daviess' 'Dubois' 'Gibson'\n",
      " 'Greene' 'Knox' 'Pike' 'Sullivan' 'Vigo' 'Warrick' 'Bourbon' 'Bell'\n",
      " 'Boyd' 'Breathitt' 'Elliott' 'Floyd' 'Harlan' 'Henderson' 'Hopkins'\n",
      " 'Johnson' 'Knott' 'Laurel' 'Lawrence' 'Leslie' 'Letcher' 'Livingston'\n",
      " 'Mclean' 'Magoffin' 'Martin' 'Muhlenberg' 'Ohio' 'Rockcastle' 'Union'\n",
      " 'Webster' 'Whitley' 'De Soto' 'Natchitoches' 'Allegany' 'Garrett'\n",
      " 'Choctaw' 'Kemper' 'Bates' 'Big Horn' 'Musselshell' 'Richland' 'Rosebud'\n",
      " 'Mckinley' 'San Juan' 'Mercer' 'Oliver' 'Belmont' 'Carroll' 'Columbiana'\n",
      " 'Coshocton' 'Guernsey' 'Harrison' 'Mahoning' 'Monroe' 'Muskingum' 'Noble'\n",
      " 'Stark' 'Tuscarawas' 'Vinton' 'Craig' 'Haskell' 'Le Flore' 'Nowata'\n",
      " 'Okmulgee' 'Allegheny' 'Armstrong' 'Beaver' 'Bedford' 'Berks' 'Blair'\n",
      " 'Butler' 'Cambria' 'Carbon' 'Centre' 'Clarion' 'Clearfield' 'Columbia'\n",
      " 'Dauphin' 'Elk' 'Huntingdon' 'Indiana' 'Lackawanna' 'Luzerne' 'Lycoming'\n",
      " 'Northumberland' 'Schuylkill' 'Somerset' 'Venango' 'Westmoreland'\n",
      " 'Anderson' 'Campbell' 'Claiborne' 'Atascosa' 'Freestone' 'Lee' 'Leon'\n",
      " 'Limestone' 'Panola' 'Robertson' 'Rusk' 'Titus' 'Emery' 'Kane' 'Sevier'\n",
      " 'Buchanan' 'Dickenson' 'Russell' 'Tazewell' 'Wise' 'Barbour' 'Boone'\n",
      " 'Grant' 'Greenbrier' 'Kanawha' 'Lincoln' 'Logan' 'Mcdowell' 'Marion'\n",
      " 'Marshall' 'Mineral' 'Mingo' 'Monongalia' 'Nicholas' 'Raleigh' 'Taylor'\n",
      " 'Tucker' 'Upshur' 'Wayne' 'Wyoming' 'Converse' 'Hot Springs' 'Sweetwater'\n",
      " 'Athens' 'Denali' 'Linn' 'Estill' 'Wolfe' 'Maverick' 'Uinta' 'Sheridan'\n",
      " 'Morgan' 'Latimer' 'De Kalb'] \n",
      "\n",
      "Mine Status : \n",
      " ['Active, men working, not producing' 'Permanently abandoned' 'Active'\n",
      " 'Temporarily closed' 'New, under construction'] \n",
      "\n",
      "Mine Type : \n",
      " ['Surface' 'Underground' 'Refuse'] \n",
      "\n",
      "Company Type : \n",
      " ['Indepedent Producer Operator' 'Operating Subsidiary' 'Contractor'] \n",
      "\n",
      "Operating Company : \n",
      " ['Jesse Creek Mining, Llc' 'Taft Coal Sales & Associates,'\n",
      " 'Jim Walter Resources Inc' ... 'Mid-Valley Coal Sales, Inc.'\n",
      " 'Landfall Mining Inc.' 'C & C Construction'] \n",
      "\n",
      "Union Code : \n",
      " [' ' 'UNIT' 'United Mine Workers of America' 'INTE'\n",
      " 'International Union of Operation Engineers'\n",
      " 'Scotia Employees Association'\n",
      " 'International Brotherhood of Electrical Workers'\n",
      " 'Western Energy Workers' nan 'United Mine Workers Of America'\n",
      " 'International Brotherhood Of Teamsters, Chauffeurs, Warehouse'\n",
      " 'International Union Of Operation Engineers'\n",
      " 'International Brotherhood Of Electrical Workers'\n",
      " 'Utility Workers Of America'] \n",
      "\n",
      "Company Type : \n",
      " ['Indepedent Producer Operator' 'Operating Subsidiary' 'Contractor'] \n",
      "\n"
     ]
    }
   ],
   "source": [
    "#take a peek on what is in each colume\n",
    "print(\"Checking Unique values\\n\")\n",
    "print(\"Mine County : \\n\",df['Mine County'].unique(),\"\\n\")\n",
    "print(\"Mine Status : \\n\",df['Mine Status'].unique(),\"\\n\")\n",
    "print(\"Mine Type : \\n\",df['Mine Type'].unique(),\"\\n\")\n",
    "print(\"Company Type : \\n\",df['Company Type'].unique(),\"\\n\")\n",
    "print(\"Operating Company : \\n\",df['Operating Company'].unique(),\"\\n\")\n",
    "print(\"Union Code : \\n\",df['Union Code'].unique(),\"\\n\")\n",
    "print(\"Company Type : \\n\",df['Company Type'].unique(),\"\\n\")"
   ]
  },
  {
   "cell_type": "markdown",
   "id": "1d22b02c",
   "metadata": {},
   "source": [
    "## Replacing the mispelling of the value indepedent in Company Type"
   ]
  },
  {
   "cell_type": "code",
   "execution_count": 10,
   "id": "af225dd1",
   "metadata": {},
   "outputs": [],
   "source": [
    "df['Company Type'].replace(to_replace='Indepedent Producer Operator', \n",
    "                            value = 'Independent Producer Operator', inplace=True)"
   ]
  },
  {
   "cell_type": "code",
   "execution_count": 11,
   "id": "66c0a8c4",
   "metadata": {},
   "outputs": [
    {
     "data": {
      "text/plain": [
       "Year                          int64\n",
       "MSHA ID                       int64\n",
       "Mine Name                    object\n",
       "Mine State                   object\n",
       "Mine County                  object\n",
       "Mine Status                  object\n",
       "Mine Type                    object\n",
       "Company Type                 object\n",
       "Operation Type               object\n",
       "Operating Company            object\n",
       "Operating Company Address    object\n",
       "Union Code                   object\n",
       "Coal Supply Region           object\n",
       "Production (short tons)       int64\n",
       "Average Employees             int64\n",
       "Labor Hours                   int64\n",
       "dtype: object"
      ]
     },
     "execution_count": 11,
     "metadata": {},
     "output_type": "execute_result"
    }
   ],
   "source": [
    "df.dtypes"
   ]
  },
  {
   "cell_type": "markdown",
   "id": "feb413c8",
   "metadata": {},
   "source": [
    "## Renaming columns by underscore to remove the spaces between the Column names"
   ]
  },
  {
   "cell_type": "code",
   "execution_count": 12,
   "id": "3d31da70",
   "metadata": {},
   "outputs": [
    {
     "data": {
      "text/html": [
       "<div>\n",
       "<style scoped>\n",
       "    .dataframe tbody tr th:only-of-type {\n",
       "        vertical-align: middle;\n",
       "    }\n",
       "\n",
       "    .dataframe tbody tr th {\n",
       "        vertical-align: top;\n",
       "    }\n",
       "\n",
       "    .dataframe thead th {\n",
       "        text-align: right;\n",
       "    }\n",
       "</style>\n",
       "<table border=\"1\" class=\"dataframe\">\n",
       "  <thead>\n",
       "    <tr style=\"text-align: right;\">\n",
       "      <th></th>\n",
       "      <th>Year</th>\n",
       "      <th>MSHA_ID</th>\n",
       "      <th>Mine_Name</th>\n",
       "      <th>Mine_State</th>\n",
       "      <th>Mine_County</th>\n",
       "      <th>Mine_Status</th>\n",
       "      <th>Mine_Type</th>\n",
       "      <th>Company_Type</th>\n",
       "      <th>Operation_Type</th>\n",
       "      <th>Operating_Company</th>\n",
       "      <th>Operating_Company_Address</th>\n",
       "      <th>Union_Code</th>\n",
       "      <th>Coal_Supply_Region</th>\n",
       "      <th>Production_(short_tons)</th>\n",
       "      <th>Average_Employees</th>\n",
       "      <th>Labor_Hours</th>\n",
       "    </tr>\n",
       "  </thead>\n",
       "  <tbody>\n",
       "    <tr>\n",
       "      <th>0</th>\n",
       "      <td>2013</td>\n",
       "      <td>103381</td>\n",
       "      <td>Tacoa Highwall Miner</td>\n",
       "      <td>Alabama</td>\n",
       "      <td>Bibb</td>\n",
       "      <td>Active, men working, not producing</td>\n",
       "      <td>Surface</td>\n",
       "      <td>Independent Producer Operator</td>\n",
       "      <td>Mine only</td>\n",
       "      <td>Jesse Creek Mining, Llc</td>\n",
       "      <td>1615 Kent Dairy Rd, Alabaster, AL 35007</td>\n",
       "      <td></td>\n",
       "      <td>Appalachia Southern</td>\n",
       "      <td>56004</td>\n",
       "      <td>10</td>\n",
       "      <td>22392</td>\n",
       "    </tr>\n",
       "    <tr>\n",
       "      <th>1</th>\n",
       "      <td>2013</td>\n",
       "      <td>103404</td>\n",
       "      <td>Reid School Mine</td>\n",
       "      <td>Alabama</td>\n",
       "      <td>Blount</td>\n",
       "      <td>Permanently abandoned</td>\n",
       "      <td>Surface</td>\n",
       "      <td>Independent Producer Operator</td>\n",
       "      <td>Mine only</td>\n",
       "      <td>Taft Coal Sales &amp; Associates,</td>\n",
       "      <td>3000 Riverchase Galleria Ste 1, Birmingham, AL...</td>\n",
       "      <td>UNIT</td>\n",
       "      <td>Appalachia Southern</td>\n",
       "      <td>28807</td>\n",
       "      <td>18</td>\n",
       "      <td>28447</td>\n",
       "    </tr>\n",
       "    <tr>\n",
       "      <th>2</th>\n",
       "      <td>2013</td>\n",
       "      <td>100759</td>\n",
       "      <td>North River #1 Underground Min</td>\n",
       "      <td>Alabama</td>\n",
       "      <td>Fayette</td>\n",
       "      <td>Active, men working, not producing</td>\n",
       "      <td>Underground</td>\n",
       "      <td>Independent Producer Operator</td>\n",
       "      <td>Mine and Preparation Plant</td>\n",
       "      <td>Jim Walter Resources Inc</td>\n",
       "      <td>3114 County Rd 63 S, Berry, AL 35546</td>\n",
       "      <td>UNIT</td>\n",
       "      <td>Appalachia Southern</td>\n",
       "      <td>1440115</td>\n",
       "      <td>183</td>\n",
       "      <td>474784</td>\n",
       "    </tr>\n",
       "    <tr>\n",
       "      <th>3</th>\n",
       "      <td>2013</td>\n",
       "      <td>103246</td>\n",
       "      <td>Bear Creek</td>\n",
       "      <td>Alabama</td>\n",
       "      <td>Franklin</td>\n",
       "      <td>Active</td>\n",
       "      <td>Surface</td>\n",
       "      <td>Independent Producer Operator</td>\n",
       "      <td>Mine only</td>\n",
       "      <td>Birmingham Coal &amp; Coke Co., In</td>\n",
       "      <td>912 Edenton Street, Birmingham, AL 35242</td>\n",
       "      <td></td>\n",
       "      <td>Appalachia Southern</td>\n",
       "      <td>87587</td>\n",
       "      <td>13</td>\n",
       "      <td>29193</td>\n",
       "    </tr>\n",
       "    <tr>\n",
       "      <th>4</th>\n",
       "      <td>2013</td>\n",
       "      <td>103451</td>\n",
       "      <td>Knight Mine</td>\n",
       "      <td>Alabama</td>\n",
       "      <td>Franklin</td>\n",
       "      <td>Active</td>\n",
       "      <td>Surface</td>\n",
       "      <td>Independent Producer Operator</td>\n",
       "      <td>Mine only</td>\n",
       "      <td>Birmingham Coal &amp; Coke Co., In</td>\n",
       "      <td>P.O. Box 354, Lynn, AL 35242</td>\n",
       "      <td></td>\n",
       "      <td>Appalachia Southern</td>\n",
       "      <td>147499</td>\n",
       "      <td>27</td>\n",
       "      <td>46393</td>\n",
       "    </tr>\n",
       "  </tbody>\n",
       "</table>\n",
       "</div>"
      ],
      "text/plain": [
       "   Year  MSHA_ID                       Mine_Name Mine_State Mine_County  \\\n",
       "0  2013   103381            Tacoa Highwall Miner    Alabama        Bibb   \n",
       "1  2013   103404                Reid School Mine    Alabama      Blount   \n",
       "2  2013   100759  North River #1 Underground Min    Alabama     Fayette   \n",
       "3  2013   103246                      Bear Creek    Alabama    Franklin   \n",
       "4  2013   103451                     Knight Mine    Alabama    Franklin   \n",
       "\n",
       "                          Mine_Status    Mine_Type  \\\n",
       "0  Active, men working, not producing      Surface   \n",
       "1               Permanently abandoned      Surface   \n",
       "2  Active, men working, not producing  Underground   \n",
       "3                              Active      Surface   \n",
       "4                              Active      Surface   \n",
       "\n",
       "                    Company_Type              Operation_Type  \\\n",
       "0  Independent Producer Operator                   Mine only   \n",
       "1  Independent Producer Operator                   Mine only   \n",
       "2  Independent Producer Operator  Mine and Preparation Plant   \n",
       "3  Independent Producer Operator                   Mine only   \n",
       "4  Independent Producer Operator                   Mine only   \n",
       "\n",
       "                Operating_Company  \\\n",
       "0         Jesse Creek Mining, Llc   \n",
       "1   Taft Coal Sales & Associates,   \n",
       "2        Jim Walter Resources Inc   \n",
       "3  Birmingham Coal & Coke Co., In   \n",
       "4  Birmingham Coal & Coke Co., In   \n",
       "\n",
       "                           Operating_Company_Address Union_Code  \\\n",
       "0            1615 Kent Dairy Rd, Alabaster, AL 35007              \n",
       "1  3000 Riverchase Galleria Ste 1, Birmingham, AL...       UNIT   \n",
       "2               3114 County Rd 63 S, Berry, AL 35546       UNIT   \n",
       "3           912 Edenton Street, Birmingham, AL 35242              \n",
       "4                       P.O. Box 354, Lynn, AL 35242              \n",
       "\n",
       "    Coal_Supply_Region  Production_(short_tons)  Average_Employees  \\\n",
       "0  Appalachia Southern                    56004                 10   \n",
       "1  Appalachia Southern                    28807                 18   \n",
       "2  Appalachia Southern                  1440115                183   \n",
       "3  Appalachia Southern                    87587                 13   \n",
       "4  Appalachia Southern                   147499                 27   \n",
       "\n",
       "   Labor_Hours  \n",
       "0        22392  \n",
       "1        28447  \n",
       "2       474784  \n",
       "3        29193  \n",
       "4        46393  "
      ]
     },
     "execution_count": 12,
     "metadata": {},
     "output_type": "execute_result"
    }
   ],
   "source": [
    "df.rename(columns=lambda x: x.replace(\" \", \"_\"), inplace=True) \n",
    "df.head()"
   ]
  },
  {
   "cell_type": "code",
   "execution_count": 13,
   "id": "f0f762fd",
   "metadata": {},
   "outputs": [
    {
     "data": {
      "text/plain": [
       "array([[<AxesSubplot:title={'center':'Year'}>,\n",
       "        <AxesSubplot:title={'center':'MSHA_ID'}>],\n",
       "       [<AxesSubplot:title={'center':'Production_(short_tons)'}>,\n",
       "        <AxesSubplot:title={'center':'Average_Employees'}>],\n",
       "       [<AxesSubplot:title={'center':'Labor_Hours'}>, <AxesSubplot:>]],\n",
       "      dtype=object)"
      ]
     },
     "execution_count": 13,
     "metadata": {},
     "output_type": "execute_result"
    },
    {
     "data": {
      "image/png": "[encoded data removed]",
      "text/plain": [
       "<Figure size 504x504 with 6 Axes>"
      ]
     },
     "metadata": {
      "needs_background": "light"
     },
     "output_type": "display_data"
    }
   ],
   "source": [
    "df.hist(bins=50,figsize=(7,7))"
   ]
  },
  {
   "cell_type": "markdown",
   "id": "49299ffd",
   "metadata": {},
   "source": [
    "#### Here, We did Correlation to understand the relationships between independant & Dependant variables. The statistical relationship between two variables is referred to as their correlation. So here, Since our target variable/Dependant Variable is \"Production_(short_tons)\", we are doing correlation to understand the relationship between other independant features in the dataset.\n",
    "#### Here you can see that AverageEmployee & LabourHour are more correlated to our target variable & the other attributes are less correlated."
   ]
  },
  {
   "cell_type": "code",
   "execution_count": 14,
   "id": "9c986ae5",
   "metadata": {},
   "outputs": [
    {
     "data": {
      "text/plain": [
       "Year                       0.007636\n",
       "MSHA_ID                    0.065746\n",
       "Production_(short_tons)    1.000000\n",
       "Average_Employees          0.706159\n",
       "Labor_Hours                0.670749\n",
       "Name: Production_(short_tons), dtype: float64"
      ]
     },
     "execution_count": 14,
     "metadata": {},
     "output_type": "execute_result"
    }
   ],
   "source": [
    "correlation = df.corr()['Production_(short_tons)']\n",
    "correlation"
   ]
  },
  {
   "cell_type": "code",
   "execution_count": 15,
   "id": "cebca9ab",
   "metadata": {},
   "outputs": [
    {
     "data": {
      "text/html": [
       "<div>\n",
       "<style scoped>\n",
       "    .dataframe tbody tr th:only-of-type {\n",
       "        vertical-align: middle;\n",
       "    }\n",
       "\n",
       "    .dataframe tbody tr th {\n",
       "        vertical-align: top;\n",
       "    }\n",
       "\n",
       "    .dataframe thead th {\n",
       "        text-align: right;\n",
       "    }\n",
       "</style>\n",
       "<table border=\"1\" class=\"dataframe\">\n",
       "  <thead>\n",
       "    <tr style=\"text-align: right;\">\n",
       "      <th></th>\n",
       "      <th>Year</th>\n",
       "      <th>MSHA_ID</th>\n",
       "      <th>Production_(short_tons)</th>\n",
       "      <th>Average_Employees</th>\n",
       "      <th>Labor_Hours</th>\n",
       "    </tr>\n",
       "  </thead>\n",
       "  <tbody>\n",
       "    <tr>\n",
       "      <th>Year</th>\n",
       "      <td>1.000000</td>\n",
       "      <td>0.015867</td>\n",
       "      <td>0.007636</td>\n",
       "      <td>0.004434</td>\n",
       "      <td>0.007068</td>\n",
       "    </tr>\n",
       "    <tr>\n",
       "      <th>MSHA_ID</th>\n",
       "      <td>0.015867</td>\n",
       "      <td>1.000000</td>\n",
       "      <td>0.065746</td>\n",
       "      <td>0.024630</td>\n",
       "      <td>0.015391</td>\n",
       "    </tr>\n",
       "    <tr>\n",
       "      <th>Production_(short_tons)</th>\n",
       "      <td>0.007636</td>\n",
       "      <td>0.065746</td>\n",
       "      <td>1.000000</td>\n",
       "      <td>0.706159</td>\n",
       "      <td>0.670749</td>\n",
       "    </tr>\n",
       "    <tr>\n",
       "      <th>Average_Employees</th>\n",
       "      <td>0.004434</td>\n",
       "      <td>0.024630</td>\n",
       "      <td>0.706159</td>\n",
       "      <td>1.000000</td>\n",
       "      <td>0.994212</td>\n",
       "    </tr>\n",
       "    <tr>\n",
       "      <th>Labor_Hours</th>\n",
       "      <td>0.007068</td>\n",
       "      <td>0.015391</td>\n",
       "      <td>0.670749</td>\n",
       "      <td>0.994212</td>\n",
       "      <td>1.000000</td>\n",
       "    </tr>\n",
       "  </tbody>\n",
       "</table>\n",
       "</div>"
      ],
      "text/plain": [
       "                             Year   MSHA_ID  Production_(short_tons)  \\\n",
       "Year                     1.000000  0.015867                 0.007636   \n",
       "MSHA_ID                  0.015867  1.000000                 0.065746   \n",
       "Production_(short_tons)  0.007636  0.065746                 1.000000   \n",
       "Average_Employees        0.004434  0.024630                 0.706159   \n",
       "Labor_Hours              0.007068  0.015391                 0.670749   \n",
       "\n",
       "                         Average_Employees  Labor_Hours  \n",
       "Year                              0.004434     0.007068  \n",
       "MSHA_ID                           0.024630     0.015391  \n",
       "Production_(short_tons)           0.706159     0.670749  \n",
       "Average_Employees                 1.000000     0.994212  \n",
       "Labor_Hours                       0.994212     1.000000  "
      ]
     },
     "execution_count": 15,
     "metadata": {},
     "output_type": "execute_result"
    }
   ],
   "source": [
    "correlation = df.corr()\n",
    "correlation"
   ]
  },
  {
   "cell_type": "markdown",
   "id": "16dd5074",
   "metadata": {},
   "source": [
    "#### Heatmap is defined as a graphical representation of data using colors to visualize the value of the matrix. In this, to represent more common values or higher activities brighter colors basically reddish colors are used and to represent less common or activity values, darker colors are preferred. So here, in production cell, AverageEmployee & Labour Hours are brighter in color hence more correlated."
   ]
  },
  {
   "cell_type": "code",
   "execution_count": 16,
   "id": "172dcdd7",
   "metadata": {},
   "outputs": [
    {
     "data": {
      "text/plain": [
       "<AxesSubplot:>"
      ]
     },
     "execution_count": 16,
     "metadata": {},
     "output_type": "execute_result"
    },
    {
     "data": {
      "image/png": "[encoded data removed]",
      "text/plain": [
       "<Figure size 576x576 with 2 Axes>"
      ]
     },
     "metadata": {
      "needs_background": "light"
     },
     "output_type": "display_data"
    }
   ],
   "source": [
    "fig  = plt.subplots(figsize=(8,8))\n",
    "sns.heatmap(correlation,annot=True)"
   ]
  },
  {
   "cell_type": "code",
   "execution_count": 17,
   "id": "00a61df4",
   "metadata": {},
   "outputs": [
    {
     "data": {
      "text/plain": [
       "Text(0, 0.5, 'Total Number of Hours worked')"
      ]
     },
     "execution_count": 17,
     "metadata": {},
     "output_type": "execute_result"
    },
    {
     "data": {
      "image/png": "[encoded data removed]",
      "text/plain": [
       "<Figure size 432x288 with 1 Axes>"
      ]
     },
     "metadata": {
      "needs_background": "light"
     },
     "output_type": "display_data"
    }
   ],
   "source": [
    "plt.scatter(df.Average_Employees, df.Labor_Hours)\n",
    "plt.xlabel('Total Number of Employees')\n",
    "plt.ylabel('Total Number of Hours worked')"
   ]
  },
  {
   "cell_type": "markdown",
   "id": "50494eaf",
   "metadata": {},
   "source": [
    "### We used basic scatter plot to show the relationship between Employees vs Number of Hours Work. Here we can see that as the\n",
    "### number of emplyees goes up, the total number of hours worked increases at the mines in a linear relationship."
   ]
  },
  {
   "cell_type": "code",
   "execution_count": 18,
   "id": "891b7b5a",
   "metadata": {},
   "outputs": [
    {
     "name": "stderr",
     "output_type": "stream",
     "text": [
      "C:\\Users\\SHREE\\AppData\\Roaming\\Python\\Python38\\site-packages\\seaborn\\_decorators.py:36: FutureWarning: Pass the following variables as keyword args: x, y. From version 0.12, the only valid positional argument will be `data`, and passing other arguments without an explicit keyword will result in an error or misinterpretation.\n",
      "  warnings.warn(\n"
     ]
    },
    {
     "data": {
      "image/png": "[encoded data removed]",
      "text/plain": [
       "<Figure size 432x288 with 1 Axes>"
      ]
     },
     "metadata": {
      "needs_background": "light"
     },
     "output_type": "display_data"
    }
   ],
   "source": [
    "#using seaborn regression plot\n",
    "sns_plot=sns.regplot(df.Average_Employees, df.Labor_Hours, ci=95, n_boot=1000,scatter_kws={\"color\": \"orange\"}, line_kws={\"color\": \"red\"})\n",
    "fig = sns_plot.get_figure()"
   ]
  },
  {
   "cell_type": "markdown",
   "id": "40379a45",
   "metadata": {},
   "source": [
    "### Here using seaborn we showed the same trend, but by fitting a line in the data which gave it a bootstrapping in the middle of the line."
   ]
  },
  {
   "cell_type": "code",
   "execution_count": 19,
   "id": "ec117df8",
   "metadata": {},
   "outputs": [
    {
     "data": {
      "text/plain": [
       "<matplotlib.collections.PathCollection at 0x25b8f7f51f0>"
      ]
     },
     "execution_count": 19,
     "metadata": {},
     "output_type": "execute_result"
    },
    {
     "data": {
      "image/png": "[encoded data removed]",
      "text/plain": [
       "<Figure size 432x288 with 1 Axes>"
      ]
     },
     "metadata": {
      "needs_background": "light"
     },
     "output_type": "display_data"
    }
   ],
   "source": [
    "plt.scatter(df.Labor_Hours, df['Production_(short_tons)'], color='#ff7f0e')"
   ]
  },
  {
   "cell_type": "code",
   "execution_count": 20,
   "id": "877359d2",
   "metadata": {},
   "outputs": [
    {
     "data": {
      "text/plain": [
       "<AxesSubplot:>"
      ]
     },
     "execution_count": 20,
     "metadata": {},
     "output_type": "execute_result"
    },
    {
     "data": {
      "image/png": "[encoded data removed]",
      "text/plain": [
       "<Figure size 432x288 with 1 Axes>"
      ]
     },
     "metadata": {
      "needs_background": "light"
     },
     "output_type": "display_data"
    }
   ],
   "source": [
    "df['Production_(short_tons)'].hist(bins=10)"
   ]
  },
  {
   "cell_type": "code",
   "execution_count": 21,
   "id": "dadad533",
   "metadata": {},
   "outputs": [
    {
     "data": {
      "text/plain": [
       "0"
      ]
     },
     "execution_count": 21,
     "metadata": {},
     "output_type": "execute_result"
    }
   ],
   "source": [
    "#wanted to see the minimum value\n",
    "min(df['Production_(short_tons)'])"
   ]
  },
  {
   "cell_type": "code",
   "execution_count": 22,
   "id": "693ba0ec",
   "metadata": {},
   "outputs": [
    {
     "data": {
      "text/html": [
       "<div>\n",
       "<style scoped>\n",
       "    .dataframe tbody tr th:only-of-type {\n",
       "        vertical-align: middle;\n",
       "    }\n",
       "\n",
       "    .dataframe tbody tr th {\n",
       "        vertical-align: top;\n",
       "    }\n",
       "\n",
       "    .dataframe thead th {\n",
       "        text-align: right;\n",
       "    }\n",
       "</style>\n",
       "<table border=\"1\" class=\"dataframe\">\n",
       "  <thead>\n",
       "    <tr style=\"text-align: right;\">\n",
       "      <th></th>\n",
       "      <th>Year</th>\n",
       "      <th>MSHA_ID</th>\n",
       "      <th>Mine_Name</th>\n",
       "      <th>Mine_State</th>\n",
       "      <th>Mine_County</th>\n",
       "      <th>Mine_Status</th>\n",
       "      <th>Mine_Type</th>\n",
       "      <th>Company_Type</th>\n",
       "      <th>Operation_Type</th>\n",
       "      <th>Operating_Company</th>\n",
       "      <th>Operating_Company_Address</th>\n",
       "      <th>Union_Code</th>\n",
       "      <th>Coal_Supply_Region</th>\n",
       "      <th>Production_(short_tons)</th>\n",
       "      <th>Average_Employees</th>\n",
       "      <th>Labor_Hours</th>\n",
       "    </tr>\n",
       "  </thead>\n",
       "  <tbody>\n",
       "    <tr>\n",
       "      <th>6</th>\n",
       "      <td>2013</td>\n",
       "      <td>100329</td>\n",
       "      <td>Concord Mine</td>\n",
       "      <td>Alabama</td>\n",
       "      <td>Jefferson</td>\n",
       "      <td>Active</td>\n",
       "      <td>Underground</td>\n",
       "      <td>Operating Subsidiary</td>\n",
       "      <td>Preparation Plant</td>\n",
       "      <td>Oak Grove Resources Llc</td>\n",
       "      <td>8360 Taylors Ferry Rd, Hueytown, AL 35023</td>\n",
       "      <td>UNIT</td>\n",
       "      <td>Appalachia Southern</td>\n",
       "      <td>0</td>\n",
       "      <td>59</td>\n",
       "      <td>144002</td>\n",
       "    </tr>\n",
       "    <tr>\n",
       "      <th>8</th>\n",
       "      <td>2013</td>\n",
       "      <td>102901</td>\n",
       "      <td>Shoal Creek Mine</td>\n",
       "      <td>Alabama</td>\n",
       "      <td>Jefferson</td>\n",
       "      <td>Active</td>\n",
       "      <td>Surface</td>\n",
       "      <td>Independent Producer Operator</td>\n",
       "      <td>Mine and Preparation Plant</td>\n",
       "      <td>Drummond Company Inc</td>\n",
       "      <td>P.O. Box 1549, Jasper, AL 35501</td>\n",
       "      <td>United Mine Workers of America</td>\n",
       "      <td>Appalachia Southern</td>\n",
       "      <td>0</td>\n",
       "      <td>5</td>\n",
       "      <td>12396</td>\n",
       "    </tr>\n",
       "    <tr>\n",
       "      <th>18</th>\n",
       "      <td>2013</td>\n",
       "      <td>102976</td>\n",
       "      <td>Piney Woods Preparation Plant</td>\n",
       "      <td>Alabama</td>\n",
       "      <td>Shelby</td>\n",
       "      <td>Active</td>\n",
       "      <td>Surface</td>\n",
       "      <td>Independent Producer Operator</td>\n",
       "      <td>Preparation Plant</td>\n",
       "      <td>Jesse Creek Mining, Llc</td>\n",
       "      <td>1615 Kent Dairy Rd, Alabaster, AL 35007</td>\n",
       "      <td></td>\n",
       "      <td>Appalachia Southern</td>\n",
       "      <td>0</td>\n",
       "      <td>5</td>\n",
       "      <td>14828</td>\n",
       "    </tr>\n",
       "    <tr>\n",
       "      <th>19</th>\n",
       "      <td>2013</td>\n",
       "      <td>102976</td>\n",
       "      <td>Piney Woods Preparation Plant</td>\n",
       "      <td>Alabama</td>\n",
       "      <td>Shelby</td>\n",
       "      <td>Active</td>\n",
       "      <td>Underground</td>\n",
       "      <td>Independent Producer Operator</td>\n",
       "      <td>Preparation Plant</td>\n",
       "      <td>Jesse Creek Mining, Llc</td>\n",
       "      <td>1615 Kent Dairy Rd, Alabaster, AL 35007</td>\n",
       "      <td></td>\n",
       "      <td>Appalachia Southern</td>\n",
       "      <td>0</td>\n",
       "      <td>9</td>\n",
       "      <td>23193</td>\n",
       "    </tr>\n",
       "    <tr>\n",
       "      <th>20</th>\n",
       "      <td>2013</td>\n",
       "      <td>103380</td>\n",
       "      <td>Calera</td>\n",
       "      <td>Alabama</td>\n",
       "      <td>Shelby</td>\n",
       "      <td>Active</td>\n",
       "      <td>Surface</td>\n",
       "      <td>Independent Producer Operator</td>\n",
       "      <td>Preparation Plant</td>\n",
       "      <td>Conrad Yelvington Distributors</td>\n",
       "      <td>13101 Telecom Dr #101, Tampa, FL 33637</td>\n",
       "      <td></td>\n",
       "      <td>Appalachia Southern</td>\n",
       "      <td>0</td>\n",
       "      <td>6</td>\n",
       "      <td>12621</td>\n",
       "    </tr>\n",
       "    <tr>\n",
       "      <th>...</th>\n",
       "      <td>...</td>\n",
       "      <td>...</td>\n",
       "      <td>...</td>\n",
       "      <td>...</td>\n",
       "      <td>...</td>\n",
       "      <td>...</td>\n",
       "      <td>...</td>\n",
       "      <td>...</td>\n",
       "      <td>...</td>\n",
       "      <td>...</td>\n",
       "      <td>...</td>\n",
       "      <td>...</td>\n",
       "      <td>...</td>\n",
       "      <td>...</td>\n",
       "      <td>...</td>\n",
       "      <td>...</td>\n",
       "    </tr>\n",
       "    <tr>\n",
       "      <th>7738</th>\n",
       "      <td>2019</td>\n",
       "      <td>4604637</td>\n",
       "      <td>Kepler No. 1 Prep Plant</td>\n",
       "      <td>West Virginia (Southern)</td>\n",
       "      <td>Wyoming</td>\n",
       "      <td>Active</td>\n",
       "      <td>Underground</td>\n",
       "      <td>Operating Subsidiary</td>\n",
       "      <td>Preparation Plant</td>\n",
       "      <td>Kepler Processing Company Llc</td>\n",
       "      <td>P.O. Box 1050, Pineville, WV 24874</td>\n",
       "      <td>United Mine Workers Of America</td>\n",
       "      <td>Appalachia Central</td>\n",
       "      <td>0</td>\n",
       "      <td>6</td>\n",
       "      <td>11689</td>\n",
       "    </tr>\n",
       "    <tr>\n",
       "      <th>7739</th>\n",
       "      <td>2019</td>\n",
       "      <td>4605868</td>\n",
       "      <td>Ranger Fuel Preparation Plant</td>\n",
       "      <td>West Virginia (Southern)</td>\n",
       "      <td>Wyoming</td>\n",
       "      <td>Active</td>\n",
       "      <td>Surface</td>\n",
       "      <td>Operating Subsidiary</td>\n",
       "      <td>Preparation Plant</td>\n",
       "      <td>Bluestone Oil Corp.</td>\n",
       "      <td>P.O. Box 338, Pineville, WV 24874</td>\n",
       "      <td>United Mine Workers Of America</td>\n",
       "      <td>Appalachia Central</td>\n",
       "      <td>0</td>\n",
       "      <td>3</td>\n",
       "      <td>7315</td>\n",
       "    </tr>\n",
       "    <tr>\n",
       "      <th>7740</th>\n",
       "      <td>2019</td>\n",
       "      <td>4605868</td>\n",
       "      <td>Ranger Fuel Preparation Plant</td>\n",
       "      <td>West Virginia (Southern)</td>\n",
       "      <td>Wyoming</td>\n",
       "      <td>Active</td>\n",
       "      <td>Underground</td>\n",
       "      <td>Operating Subsidiary</td>\n",
       "      <td>Preparation Plant</td>\n",
       "      <td>Bluestone Oil Corp.</td>\n",
       "      <td>P.O. Box 338, Pineville, WV 24874</td>\n",
       "      <td>United Mine Workers Of America</td>\n",
       "      <td>Appalachia Central</td>\n",
       "      <td>0</td>\n",
       "      <td>8</td>\n",
       "      <td>17070</td>\n",
       "    </tr>\n",
       "    <tr>\n",
       "      <th>7745</th>\n",
       "      <td>2019</td>\n",
       "      <td>4609316</td>\n",
       "      <td>K-2 Plant</td>\n",
       "      <td>West Virginia (Southern)</td>\n",
       "      <td>Wyoming</td>\n",
       "      <td>Active</td>\n",
       "      <td>Surface</td>\n",
       "      <td>Independent Producer Operator</td>\n",
       "      <td>Preparation Plant</td>\n",
       "      <td>Nufac Mining Company Inc</td>\n",
       "      <td>P.O. Box 1085, Beckley, WV 25802</td>\n",
       "      <td>NaN</td>\n",
       "      <td>Appalachia Central</td>\n",
       "      <td>0</td>\n",
       "      <td>4</td>\n",
       "      <td>11299</td>\n",
       "    </tr>\n",
       "    <tr>\n",
       "      <th>7746</th>\n",
       "      <td>2019</td>\n",
       "      <td>4609316</td>\n",
       "      <td>K-2 Plant</td>\n",
       "      <td>West Virginia (Southern)</td>\n",
       "      <td>Wyoming</td>\n",
       "      <td>Active</td>\n",
       "      <td>Underground</td>\n",
       "      <td>Independent Producer Operator</td>\n",
       "      <td>Preparation Plant</td>\n",
       "      <td>Nufac Mining Company Inc</td>\n",
       "      <td>P.O. Box 1085, Beckley, WV 25802</td>\n",
       "      <td>NaN</td>\n",
       "      <td>Appalachia Central</td>\n",
       "      <td>0</td>\n",
       "      <td>11</td>\n",
       "      <td>27662</td>\n",
       "    </tr>\n",
       "  </tbody>\n",
       "</table>\n",
       "<p>2142 rows × 16 columns</p>\n",
       "</div>"
      ],
      "text/plain": [
       "      Year  MSHA_ID                      Mine_Name                Mine_State  \\\n",
       "6     2013   100329                   Concord Mine                   Alabama   \n",
       "8     2013   102901               Shoal Creek Mine                   Alabama   \n",
       "18    2013   102976  Piney Woods Preparation Plant                   Alabama   \n",
       "19    2013   102976  Piney Woods Preparation Plant                   Alabama   \n",
       "20    2013   103380                         Calera                   Alabama   \n",
       "...    ...      ...                            ...                       ...   \n",
       "7738  2019  4604637        Kepler No. 1 Prep Plant  West Virginia (Southern)   \n",
       "7739  2019  4605868  Ranger Fuel Preparation Plant  West Virginia (Southern)   \n",
       "7740  2019  4605868  Ranger Fuel Preparation Plant  West Virginia (Southern)   \n",
       "7745  2019  4609316                      K-2 Plant  West Virginia (Southern)   \n",
       "7746  2019  4609316                      K-2 Plant  West Virginia (Southern)   \n",
       "\n",
       "     Mine_County Mine_Status    Mine_Type                   Company_Type  \\\n",
       "6      Jefferson      Active  Underground           Operating Subsidiary   \n",
       "8      Jefferson      Active      Surface  Independent Producer Operator   \n",
       "18        Shelby      Active      Surface  Independent Producer Operator   \n",
       "19        Shelby      Active  Underground  Independent Producer Operator   \n",
       "20        Shelby      Active      Surface  Independent Producer Operator   \n",
       "...          ...         ...          ...                            ...   \n",
       "7738     Wyoming      Active  Underground           Operating Subsidiary   \n",
       "7739     Wyoming      Active      Surface           Operating Subsidiary   \n",
       "7740     Wyoming      Active  Underground           Operating Subsidiary   \n",
       "7745     Wyoming      Active      Surface  Independent Producer Operator   \n",
       "7746     Wyoming      Active  Underground  Independent Producer Operator   \n",
       "\n",
       "                  Operation_Type               Operating_Company  \\\n",
       "6              Preparation Plant         Oak Grove Resources Llc   \n",
       "8     Mine and Preparation Plant            Drummond Company Inc   \n",
       "18             Preparation Plant         Jesse Creek Mining, Llc   \n",
       "19             Preparation Plant         Jesse Creek Mining, Llc   \n",
       "20             Preparation Plant  Conrad Yelvington Distributors   \n",
       "...                          ...                             ...   \n",
       "7738           Preparation Plant   Kepler Processing Company Llc   \n",
       "7739           Preparation Plant             Bluestone Oil Corp.   \n",
       "7740           Preparation Plant             Bluestone Oil Corp.   \n",
       "7745           Preparation Plant        Nufac Mining Company Inc   \n",
       "7746           Preparation Plant        Nufac Mining Company Inc   \n",
       "\n",
       "                      Operating_Company_Address  \\\n",
       "6     8360 Taylors Ferry Rd, Hueytown, AL 35023   \n",
       "8               P.O. Box 1549, Jasper, AL 35501   \n",
       "18      1615 Kent Dairy Rd, Alabaster, AL 35007   \n",
       "19      1615 Kent Dairy Rd, Alabaster, AL 35007   \n",
       "20       13101 Telecom Dr #101, Tampa, FL 33637   \n",
       "...                                         ...   \n",
       "7738         P.O. Box 1050, Pineville, WV 24874   \n",
       "7739          P.O. Box 338, Pineville, WV 24874   \n",
       "7740          P.O. Box 338, Pineville, WV 24874   \n",
       "7745           P.O. Box 1085, Beckley, WV 25802   \n",
       "7746           P.O. Box 1085, Beckley, WV 25802   \n",
       "\n",
       "                          Union_Code   Coal_Supply_Region  \\\n",
       "6                               UNIT  Appalachia Southern   \n",
       "8     United Mine Workers of America  Appalachia Southern   \n",
       "18                                    Appalachia Southern   \n",
       "19                                    Appalachia Southern   \n",
       "20                                    Appalachia Southern   \n",
       "...                              ...                  ...   \n",
       "7738  United Mine Workers Of America   Appalachia Central   \n",
       "7739  United Mine Workers Of America   Appalachia Central   \n",
       "7740  United Mine Workers Of America   Appalachia Central   \n",
       "7745                             NaN   Appalachia Central   \n",
       "7746                             NaN   Appalachia Central   \n",
       "\n",
       "      Production_(short_tons)  Average_Employees  Labor_Hours  \n",
       "6                           0                 59       144002  \n",
       "8                           0                  5        12396  \n",
       "18                          0                  5        14828  \n",
       "19                          0                  9        23193  \n",
       "20                          0                  6        12621  \n",
       "...                       ...                ...          ...  \n",
       "7738                        0                  6        11689  \n",
       "7739                        0                  3         7315  \n",
       "7740                        0                  8        17070  \n",
       "7745                        0                  4        11299  \n",
       "7746                        0                 11        27662  \n",
       "\n",
       "[2142 rows x 16 columns]"
      ]
     },
     "execution_count": 22,
     "metadata": {},
     "output_type": "execute_result"
    }
   ],
   "source": [
    "#look at where the production shorttons is eqaul to zero\n",
    "df['Production_(short_tons)'] == 0\n",
    "\n",
    "#where is the production equal to zero\n",
    "df[df['Production_(short_tons)'] == 0]"
   ]
  },
  {
   "cell_type": "markdown",
   "id": "42e55a90",
   "metadata": {},
   "source": [
    "### There are quite a number of mines that had no production values. Next trying to look at the mines that produced at least 1 tons or more."
   ]
  },
  {
   "cell_type": "markdown",
   "id": "381c65bb",
   "metadata": {},
   "source": [
    "## Slicing the Data"
   ]
  },
  {
   "cell_type": "code",
   "execution_count": 23,
   "id": "5d2cceb8",
   "metadata": {},
   "outputs": [
    {
     "data": {
      "text/html": [
       "<div>\n",
       "<style scoped>\n",
       "    .dataframe tbody tr th:only-of-type {\n",
       "        vertical-align: middle;\n",
       "    }\n",
       "\n",
       "    .dataframe tbody tr th {\n",
       "        vertical-align: top;\n",
       "    }\n",
       "\n",
       "    .dataframe thead th {\n",
       "        text-align: right;\n",
       "    }\n",
       "</style>\n",
       "<table border=\"1\" class=\"dataframe\">\n",
       "  <thead>\n",
       "    <tr style=\"text-align: right;\">\n",
       "      <th></th>\n",
       "      <th>Year</th>\n",
       "      <th>MSHA_ID</th>\n",
       "      <th>Mine_Name</th>\n",
       "      <th>Mine_State</th>\n",
       "      <th>Mine_County</th>\n",
       "      <th>Mine_Status</th>\n",
       "      <th>Mine_Type</th>\n",
       "      <th>Company_Type</th>\n",
       "      <th>Operation_Type</th>\n",
       "      <th>Operating_Company</th>\n",
       "      <th>Operating_Company_Address</th>\n",
       "      <th>Union_Code</th>\n",
       "      <th>Coal_Supply_Region</th>\n",
       "      <th>Production_(short_tons)</th>\n",
       "      <th>Average_Employees</th>\n",
       "      <th>Labor_Hours</th>\n",
       "    </tr>\n",
       "  </thead>\n",
       "  <tbody>\n",
       "    <tr>\n",
       "      <th>0</th>\n",
       "      <td>2013</td>\n",
       "      <td>103381</td>\n",
       "      <td>Tacoa Highwall Miner</td>\n",
       "      <td>Alabama</td>\n",
       "      <td>Bibb</td>\n",
       "      <td>Active, men working, not producing</td>\n",
       "      <td>Surface</td>\n",
       "      <td>Independent Producer Operator</td>\n",
       "      <td>Mine only</td>\n",
       "      <td>Jesse Creek Mining, Llc</td>\n",
       "      <td>1615 Kent Dairy Rd, Alabaster, AL 35007</td>\n",
       "      <td></td>\n",
       "      <td>Appalachia Southern</td>\n",
       "      <td>56004</td>\n",
       "      <td>10</td>\n",
       "      <td>22392</td>\n",
       "    </tr>\n",
       "    <tr>\n",
       "      <th>1</th>\n",
       "      <td>2013</td>\n",
       "      <td>103404</td>\n",
       "      <td>Reid School Mine</td>\n",
       "      <td>Alabama</td>\n",
       "      <td>Blount</td>\n",
       "      <td>Permanently abandoned</td>\n",
       "      <td>Surface</td>\n",
       "      <td>Independent Producer Operator</td>\n",
       "      <td>Mine only</td>\n",
       "      <td>Taft Coal Sales &amp; Associates,</td>\n",
       "      <td>3000 Riverchase Galleria Ste 1, Birmingham, AL...</td>\n",
       "      <td>UNIT</td>\n",
       "      <td>Appalachia Southern</td>\n",
       "      <td>28807</td>\n",
       "      <td>18</td>\n",
       "      <td>28447</td>\n",
       "    </tr>\n",
       "    <tr>\n",
       "      <th>2</th>\n",
       "      <td>2013</td>\n",
       "      <td>100759</td>\n",
       "      <td>North River #1 Underground Min</td>\n",
       "      <td>Alabama</td>\n",
       "      <td>Fayette</td>\n",
       "      <td>Active, men working, not producing</td>\n",
       "      <td>Underground</td>\n",
       "      <td>Independent Producer Operator</td>\n",
       "      <td>Mine and Preparation Plant</td>\n",
       "      <td>Jim Walter Resources Inc</td>\n",
       "      <td>3114 County Rd 63 S, Berry, AL 35546</td>\n",
       "      <td>UNIT</td>\n",
       "      <td>Appalachia Southern</td>\n",
       "      <td>1440115</td>\n",
       "      <td>183</td>\n",
       "      <td>474784</td>\n",
       "    </tr>\n",
       "    <tr>\n",
       "      <th>3</th>\n",
       "      <td>2013</td>\n",
       "      <td>103246</td>\n",
       "      <td>Bear Creek</td>\n",
       "      <td>Alabama</td>\n",
       "      <td>Franklin</td>\n",
       "      <td>Active</td>\n",
       "      <td>Surface</td>\n",
       "      <td>Independent Producer Operator</td>\n",
       "      <td>Mine only</td>\n",
       "      <td>Birmingham Coal &amp; Coke Co., In</td>\n",
       "      <td>912 Edenton Street, Birmingham, AL 35242</td>\n",
       "      <td></td>\n",
       "      <td>Appalachia Southern</td>\n",
       "      <td>87587</td>\n",
       "      <td>13</td>\n",
       "      <td>29193</td>\n",
       "    </tr>\n",
       "    <tr>\n",
       "      <th>4</th>\n",
       "      <td>2013</td>\n",
       "      <td>103451</td>\n",
       "      <td>Knight Mine</td>\n",
       "      <td>Alabama</td>\n",
       "      <td>Franklin</td>\n",
       "      <td>Active</td>\n",
       "      <td>Surface</td>\n",
       "      <td>Independent Producer Operator</td>\n",
       "      <td>Mine only</td>\n",
       "      <td>Birmingham Coal &amp; Coke Co., In</td>\n",
       "      <td>P.O. Box 354, Lynn, AL 35242</td>\n",
       "      <td></td>\n",
       "      <td>Appalachia Southern</td>\n",
       "      <td>147499</td>\n",
       "      <td>27</td>\n",
       "      <td>46393</td>\n",
       "    </tr>\n",
       "  </tbody>\n",
       "</table>\n",
       "</div>"
      ],
      "text/plain": [
       "   Year  MSHA_ID                       Mine_Name Mine_State Mine_County  \\\n",
       "0  2013   103381            Tacoa Highwall Miner    Alabama        Bibb   \n",
       "1  2013   103404                Reid School Mine    Alabama      Blount   \n",
       "2  2013   100759  North River #1 Underground Min    Alabama     Fayette   \n",
       "3  2013   103246                      Bear Creek    Alabama    Franklin   \n",
       "4  2013   103451                     Knight Mine    Alabama    Franklin   \n",
       "\n",
       "                          Mine_Status    Mine_Type  \\\n",
       "0  Active, men working, not producing      Surface   \n",
       "1               Permanently abandoned      Surface   \n",
       "2  Active, men working, not producing  Underground   \n",
       "3                              Active      Surface   \n",
       "4                              Active      Surface   \n",
       "\n",
       "                    Company_Type              Operation_Type  \\\n",
       "0  Independent Producer Operator                   Mine only   \n",
       "1  Independent Producer Operator                   Mine only   \n",
       "2  Independent Producer Operator  Mine and Preparation Plant   \n",
       "3  Independent Producer Operator                   Mine only   \n",
       "4  Independent Producer Operator                   Mine only   \n",
       "\n",
       "                Operating_Company  \\\n",
       "0         Jesse Creek Mining, Llc   \n",
       "1   Taft Coal Sales & Associates,   \n",
       "2        Jim Walter Resources Inc   \n",
       "3  Birmingham Coal & Coke Co., In   \n",
       "4  Birmingham Coal & Coke Co., In   \n",
       "\n",
       "                           Operating_Company_Address Union_Code  \\\n",
       "0            1615 Kent Dairy Rd, Alabaster, AL 35007              \n",
       "1  3000 Riverchase Galleria Ste 1, Birmingham, AL...       UNIT   \n",
       "2               3114 County Rd 63 S, Berry, AL 35546       UNIT   \n",
       "3           912 Edenton Street, Birmingham, AL 35242              \n",
       "4                       P.O. Box 354, Lynn, AL 35242              \n",
       "\n",
       "    Coal_Supply_Region  Production_(short_tons)  Average_Employees  \\\n",
       "0  Appalachia Southern                    56004                 10   \n",
       "1  Appalachia Southern                    28807                 18   \n",
       "2  Appalachia Southern                  1440115                183   \n",
       "3  Appalachia Southern                    87587                 13   \n",
       "4  Appalachia Southern                   147499                 27   \n",
       "\n",
       "   Labor_Hours  \n",
       "0        22392  \n",
       "1        28447  \n",
       "2       474784  \n",
       "3        29193  \n",
       "4        46393  "
      ]
     },
     "execution_count": 23,
     "metadata": {},
     "output_type": "execute_result"
    }
   ],
   "source": [
    "#where is the production is at least 1 tonne\n",
    "df = df[df['Production_(short_tons)'] >1 ]\n",
    "df.head()"
   ]
  },
  {
   "cell_type": "code",
   "execution_count": 24,
   "id": "df903471",
   "metadata": {},
   "outputs": [
    {
     "data": {
      "text/plain": [
       "5636"
      ]
     },
     "execution_count": 24,
     "metadata": {},
     "output_type": "execute_result"
    }
   ],
   "source": [
    "len(df)"
   ]
  },
  {
   "cell_type": "code",
   "execution_count": 25,
   "id": "0ab94e0d",
   "metadata": {},
   "outputs": [
    {
     "data": {
      "text/plain": [
       "array(['Active, men working, not producing', 'Permanently abandoned',\n",
       "       'Active', 'Temporarily closed', 'New, under construction'],\n",
       "      dtype=object)"
      ]
     },
     "execution_count": 25,
     "metadata": {},
     "output_type": "execute_result"
    }
   ],
   "source": [
    "#May be predictive variable: A good predictor in how productive the mine is.\n",
    "df.Mine_Status.unique()"
   ]
  },
  {
   "cell_type": "code",
   "execution_count": 26,
   "id": "8031786b",
   "metadata": {},
   "outputs": [
    {
     "data": {
      "text/html": [
       "<div>\n",
       "<style scoped>\n",
       "    .dataframe tbody tr th:only-of-type {\n",
       "        vertical-align: middle;\n",
       "    }\n",
       "\n",
       "    .dataframe tbody tr th {\n",
       "        vertical-align: top;\n",
       "    }\n",
       "\n",
       "    .dataframe thead th {\n",
       "        text-align: right;\n",
       "    }\n",
       "</style>\n",
       "<table border=\"1\" class=\"dataframe\">\n",
       "  <thead>\n",
       "    <tr style=\"text-align: right;\">\n",
       "      <th></th>\n",
       "      <th>Production_(short_tons)</th>\n",
       "    </tr>\n",
       "    <tr>\n",
       "      <th>Mine_Status</th>\n",
       "      <th></th>\n",
       "    </tr>\n",
       "  </thead>\n",
       "  <tbody>\n",
       "    <tr>\n",
       "      <th>Active</th>\n",
       "      <td>1.412888e+06</td>\n",
       "    </tr>\n",
       "    <tr>\n",
       "      <th>Active, men working, not producing</th>\n",
       "      <td>1.963681e+05</td>\n",
       "    </tr>\n",
       "    <tr>\n",
       "      <th>New, under construction</th>\n",
       "      <td>5.406550e+04</td>\n",
       "    </tr>\n",
       "    <tr>\n",
       "      <th>Permanently abandoned</th>\n",
       "      <td>7.811462e+04</td>\n",
       "    </tr>\n",
       "    <tr>\n",
       "      <th>Temporarily closed</th>\n",
       "      <td>4.009091e+04</td>\n",
       "    </tr>\n",
       "  </tbody>\n",
       "</table>\n",
       "</div>"
      ],
      "text/plain": [
       "                                    Production_(short_tons)\n",
       "Mine_Status                                                \n",
       "Active                                         1.412888e+06\n",
       "Active, men working, not producing             1.963681e+05\n",
       "New, under construction                        5.406550e+04\n",
       "Permanently abandoned                          7.811462e+04\n",
       "Temporarily closed                             4.009091e+04"
      ]
     },
     "execution_count": 26,
     "metadata": {},
     "output_type": "execute_result"
    }
   ],
   "source": [
    "df[['Mine_Status','Production_(short_tons)']].groupby('Mine_Status').mean()"
   ]
  },
  {
   "cell_type": "code",
   "execution_count": 27,
   "id": "79d2dff1",
   "metadata": {},
   "outputs": [
    {
     "data": {
      "text/html": [
       "<div>\n",
       "<style scoped>\n",
       "    .dataframe tbody tr th:only-of-type {\n",
       "        vertical-align: middle;\n",
       "    }\n",
       "\n",
       "    .dataframe tbody tr th {\n",
       "        vertical-align: top;\n",
       "    }\n",
       "\n",
       "    .dataframe thead th {\n",
       "        text-align: right;\n",
       "    }\n",
       "</style>\n",
       "<table border=\"1\" class=\"dataframe\">\n",
       "  <thead>\n",
       "    <tr style=\"text-align: right;\">\n",
       "      <th></th>\n",
       "      <th>Production_(short_tons)</th>\n",
       "    </tr>\n",
       "    <tr>\n",
       "      <th>Mine_Status</th>\n",
       "      <th></th>\n",
       "    </tr>\n",
       "  </thead>\n",
       "  <tbody>\n",
       "    <tr>\n",
       "      <th>Active</th>\n",
       "      <td>1.412888e+06</td>\n",
       "    </tr>\n",
       "    <tr>\n",
       "      <th>Active, men working, not producing</th>\n",
       "      <td>1.963681e+05</td>\n",
       "    </tr>\n",
       "    <tr>\n",
       "      <th>New, under construction</th>\n",
       "      <td>5.406550e+04</td>\n",
       "    </tr>\n",
       "    <tr>\n",
       "      <th>Permanently abandoned</th>\n",
       "      <td>7.811462e+04</td>\n",
       "    </tr>\n",
       "    <tr>\n",
       "      <th>Temporarily closed</th>\n",
       "      <td>4.009091e+04</td>\n",
       "    </tr>\n",
       "  </tbody>\n",
       "</table>\n",
       "</div>"
      ],
      "text/plain": [
       "                                    Production_(short_tons)\n",
       "Mine_Status                                                \n",
       "Active                                         1.412888e+06\n",
       "Active, men working, not producing             1.963681e+05\n",
       "New, under construction                        5.406550e+04\n",
       "Permanently abandoned                          7.811462e+04\n",
       "Temporarily closed                             4.009091e+04"
      ]
     },
     "execution_count": 27,
     "metadata": {},
     "output_type": "execute_result"
    }
   ],
   "source": [
    "df[['Mine_Status','Production_(short_tons)']].groupby('Mine_Status').mean()"
   ]
  },
  {
   "cell_type": "markdown",
   "id": "362d0fda",
   "metadata": {},
   "source": [
    "## Predict the production of coal mines\n",
    "What caused high or lower production\n",
    "\n",
    "### Feature Engineering"
   ]
  },
  {
   "cell_type": "code",
   "execution_count": 28,
   "id": "960b9551",
   "metadata": {},
   "outputs": [
    {
     "name": "stdout",
     "output_type": "stream",
     "text": [
      "Year\n",
      "MSHA_ID\n",
      "Mine_Name\n",
      "Mine_State\n",
      "Mine_County\n",
      "Mine_Status\n",
      "Mine_Type\n",
      "Company_Type\n",
      "Operation_Type\n",
      "Operating_Company\n",
      "Operating_Company_Address\n",
      "Union_Code\n",
      "Coal_Supply_Region\n",
      "Production_(short_tons)\n",
      "Average_Employees\n",
      "Labor_Hours\n"
     ]
    }
   ],
   "source": [
    "for columns in df:\n",
    "    print(columns)"
   ]
  },
  {
   "cell_type": "code",
   "execution_count": 29,
   "id": "e1a0b2ed",
   "metadata": {},
   "outputs": [
    {
     "data": {
      "text/plain": [
       "array([' ', 'UNIT', 'United Mine Workers of America', 'INTE',\n",
       "       'International Union of Operation Engineers',\n",
       "       'Scotia Employees Association', 'Western Energy Workers', nan,\n",
       "       'United Mine Workers Of America',\n",
       "       'International Brotherhood Of Teamsters, Chauffeurs, Warehouse',\n",
       "       'International Union Of Operation Engineers',\n",
       "       'International Brotherhood Of Electrical Workers',\n",
       "       'Utility Workers Of America'], dtype=object)"
      ]
     },
     "execution_count": 29,
     "metadata": {},
     "output_type": "execute_result"
    }
   ],
   "source": [
    "df.Union_Code.unique()"
   ]
  },
  {
   "cell_type": "markdown",
   "id": "a2a883ef",
   "metadata": {},
   "source": [
    "Of the above features on two are number: labour hours and Average_employee--Split into numerical features; and categorical variables"
   ]
  },
  {
   "cell_type": "code",
   "execution_count": 30,
   "id": "7ad4c208",
   "metadata": {},
   "outputs": [
    {
     "data": {
      "text/html": [
       "<div>\n",
       "<style scoped>\n",
       "    .dataframe tbody tr th:only-of-type {\n",
       "        vertical-align: middle;\n",
       "    }\n",
       "\n",
       "    .dataframe tbody tr th {\n",
       "        vertical-align: top;\n",
       "    }\n",
       "\n",
       "    .dataframe thead th {\n",
       "        text-align: right;\n",
       "    }\n",
       "</style>\n",
       "<table border=\"1\" class=\"dataframe\">\n",
       "  <thead>\n",
       "    <tr style=\"text-align: right;\">\n",
       "      <th></th>\n",
       "      <th>Contractor</th>\n",
       "      <th>Independent Producer Operator</th>\n",
       "      <th>Operating Subsidiary</th>\n",
       "    </tr>\n",
       "  </thead>\n",
       "  <tbody>\n",
       "    <tr>\n",
       "      <th>2388</th>\n",
       "      <td>0</td>\n",
       "      <td>0</td>\n",
       "      <td>1</td>\n",
       "    </tr>\n",
       "    <tr>\n",
       "      <th>3511</th>\n",
       "      <td>0</td>\n",
       "      <td>1</td>\n",
       "      <td>0</td>\n",
       "    </tr>\n",
       "    <tr>\n",
       "      <th>5502</th>\n",
       "      <td>0</td>\n",
       "      <td>1</td>\n",
       "      <td>0</td>\n",
       "    </tr>\n",
       "    <tr>\n",
       "      <th>3626</th>\n",
       "      <td>0</td>\n",
       "      <td>1</td>\n",
       "      <td>0</td>\n",
       "    </tr>\n",
       "    <tr>\n",
       "      <th>7510</th>\n",
       "      <td>0</td>\n",
       "      <td>1</td>\n",
       "      <td>0</td>\n",
       "    </tr>\n",
       "  </tbody>\n",
       "</table>\n",
       "</div>"
      ],
      "text/plain": [
       "      Contractor  Independent Producer Operator  Operating Subsidiary\n",
       "2388           0                              0                     1\n",
       "3511           0                              1                     0\n",
       "5502           0                              1                     0\n",
       "3626           0                              1                     0\n",
       "7510           0                              1                     0"
      ]
     },
     "execution_count": 30,
     "metadata": {},
     "output_type": "execute_result"
    }
   ],
   "source": [
    "pd.get_dummies(df[\"Company_Type\"]).sample(50).head()"
   ]
  },
  {
   "cell_type": "code",
   "execution_count": 31,
   "id": "9ad6ee93",
   "metadata": {},
   "outputs": [],
   "source": [
    "from sklearn import preprocessing\n",
    "le = preprocessing.LabelEncoder()\n",
    "df['Coal_Supply_Region']= le.fit_transform(df['Coal_Supply_Region'])\n",
    "df['Mine_State']= le.fit_transform(df['Mine_State'])\n",
    "df['Mine_County']= le.fit_transform(df['Mine_County'])\n",
    "df['Mine_Status']= le.fit_transform(df['Mine_Status'])\n",
    "df['Mine_Type']= le.fit_transform(df['Mine_Type'])\n",
    "df['Company_Type']= le.fit_transform(df['Company_Type'])\n",
    "df['Operation_Type']= le.fit_transform(df['Operation_Type'])\n",
    "df.drop(['Union_Code'],axis='columns',inplace=True)"
   ]
  },
  {
   "cell_type": "code",
   "execution_count": 32,
   "id": "6b961c3a",
   "metadata": {},
   "outputs": [
    {
     "data": {
      "text/html": [
       "<div>\n",
       "<style scoped>\n",
       "    .dataframe tbody tr th:only-of-type {\n",
       "        vertical-align: middle;\n",
       "    }\n",
       "\n",
       "    .dataframe tbody tr th {\n",
       "        vertical-align: top;\n",
       "    }\n",
       "\n",
       "    .dataframe thead th {\n",
       "        text-align: right;\n",
       "    }\n",
       "</style>\n",
       "<table border=\"1\" class=\"dataframe\">\n",
       "  <thead>\n",
       "    <tr style=\"text-align: right;\">\n",
       "      <th></th>\n",
       "      <th>Year</th>\n",
       "      <th>MSHA_ID</th>\n",
       "      <th>Mine_Name</th>\n",
       "      <th>Mine_State</th>\n",
       "      <th>Mine_County</th>\n",
       "      <th>Mine_Status</th>\n",
       "      <th>Mine_Type</th>\n",
       "      <th>Company_Type</th>\n",
       "      <th>Operation_Type</th>\n",
       "      <th>Operating_Company</th>\n",
       "      <th>Operating_Company_Address</th>\n",
       "      <th>Coal_Supply_Region</th>\n",
       "      <th>Production_(short_tons)</th>\n",
       "      <th>Average_Employees</th>\n",
       "      <th>Labor_Hours</th>\n",
       "    </tr>\n",
       "  </thead>\n",
       "  <tbody>\n",
       "    <tr>\n",
       "      <th>0</th>\n",
       "      <td>2013</td>\n",
       "      <td>103381</td>\n",
       "      <td>Tacoa Highwall Miner</td>\n",
       "      <td>0</td>\n",
       "      <td>12</td>\n",
       "      <td>1</td>\n",
       "      <td>1</td>\n",
       "      <td>1</td>\n",
       "      <td>1</td>\n",
       "      <td>Jesse Creek Mining, Llc</td>\n",
       "      <td>1615 Kent Dairy Rd, Alabaster, AL 35007</td>\n",
       "      <td>2</td>\n",
       "      <td>56004</td>\n",
       "      <td>10</td>\n",
       "      <td>22392</td>\n",
       "    </tr>\n",
       "    <tr>\n",
       "      <th>1</th>\n",
       "      <td>2013</td>\n",
       "      <td>103404</td>\n",
       "      <td>Reid School Mine</td>\n",
       "      <td>0</td>\n",
       "      <td>15</td>\n",
       "      <td>3</td>\n",
       "      <td>1</td>\n",
       "      <td>1</td>\n",
       "      <td>1</td>\n",
       "      <td>Taft Coal Sales &amp; Associates,</td>\n",
       "      <td>3000 Riverchase Galleria Ste 1, Birmingham, AL...</td>\n",
       "      <td>2</td>\n",
       "      <td>28807</td>\n",
       "      <td>18</td>\n",
       "      <td>28447</td>\n",
       "    </tr>\n",
       "    <tr>\n",
       "      <th>2</th>\n",
       "      <td>2013</td>\n",
       "      <td>100759</td>\n",
       "      <td>North River #1 Underground Min</td>\n",
       "      <td>0</td>\n",
       "      <td>48</td>\n",
       "      <td>1</td>\n",
       "      <td>2</td>\n",
       "      <td>1</td>\n",
       "      <td>0</td>\n",
       "      <td>Jim Walter Resources Inc</td>\n",
       "      <td>3114 County Rd 63 S, Berry, AL 35546</td>\n",
       "      <td>2</td>\n",
       "      <td>1440115</td>\n",
       "      <td>183</td>\n",
       "      <td>474784</td>\n",
       "    </tr>\n",
       "    <tr>\n",
       "      <th>3</th>\n",
       "      <td>2013</td>\n",
       "      <td>103246</td>\n",
       "      <td>Bear Creek</td>\n",
       "      <td>0</td>\n",
       "      <td>50</td>\n",
       "      <td>0</td>\n",
       "      <td>1</td>\n",
       "      <td>1</td>\n",
       "      <td>1</td>\n",
       "      <td>Birmingham Coal &amp; Coke Co., In</td>\n",
       "      <td>912 Edenton Street, Birmingham, AL 35242</td>\n",
       "      <td>2</td>\n",
       "      <td>87587</td>\n",
       "      <td>13</td>\n",
       "      <td>29193</td>\n",
       "    </tr>\n",
       "    <tr>\n",
       "      <th>4</th>\n",
       "      <td>2013</td>\n",
       "      <td>103451</td>\n",
       "      <td>Knight Mine</td>\n",
       "      <td>0</td>\n",
       "      <td>50</td>\n",
       "      <td>0</td>\n",
       "      <td>1</td>\n",
       "      <td>1</td>\n",
       "      <td>1</td>\n",
       "      <td>Birmingham Coal &amp; Coke Co., In</td>\n",
       "      <td>P.O. Box 354, Lynn, AL 35242</td>\n",
       "      <td>2</td>\n",
       "      <td>147499</td>\n",
       "      <td>27</td>\n",
       "      <td>46393</td>\n",
       "    </tr>\n",
       "  </tbody>\n",
       "</table>\n",
       "</div>"
      ],
      "text/plain": [
       "   Year  MSHA_ID                       Mine_Name  Mine_State  Mine_County  \\\n",
       "0  2013   103381            Tacoa Highwall Miner           0           12   \n",
       "1  2013   103404                Reid School Mine           0           15   \n",
       "2  2013   100759  North River #1 Underground Min           0           48   \n",
       "3  2013   103246                      Bear Creek           0           50   \n",
       "4  2013   103451                     Knight Mine           0           50   \n",
       "\n",
       "   Mine_Status  Mine_Type  Company_Type  Operation_Type  \\\n",
       "0            1          1             1               1   \n",
       "1            3          1             1               1   \n",
       "2            1          2             1               0   \n",
       "3            0          1             1               1   \n",
       "4            0          1             1               1   \n",
       "\n",
       "                Operating_Company  \\\n",
       "0         Jesse Creek Mining, Llc   \n",
       "1   Taft Coal Sales & Associates,   \n",
       "2        Jim Walter Resources Inc   \n",
       "3  Birmingham Coal & Coke Co., In   \n",
       "4  Birmingham Coal & Coke Co., In   \n",
       "\n",
       "                           Operating_Company_Address  Coal_Supply_Region  \\\n",
       "0            1615 Kent Dairy Rd, Alabaster, AL 35007                   2   \n",
       "1  3000 Riverchase Galleria Ste 1, Birmingham, AL...                   2   \n",
       "2               3114 County Rd 63 S, Berry, AL 35546                   2   \n",
       "3           912 Edenton Street, Birmingham, AL 35242                   2   \n",
       "4                       P.O. Box 354, Lynn, AL 35242                   2   \n",
       "\n",
       "   Production_(short_tons)  Average_Employees  Labor_Hours  \n",
       "0                    56004                 10        22392  \n",
       "1                    28807                 18        28447  \n",
       "2                  1440115                183       474784  \n",
       "3                    87587                 13        29193  \n",
       "4                   147499                 27        46393  "
      ]
     },
     "execution_count": 32,
     "metadata": {},
     "output_type": "execute_result"
    }
   ],
   "source": [
    "df.head()"
   ]
  },
  {
   "cell_type": "markdown",
   "id": "2edff0c2",
   "metadata": {},
   "source": [
    "# Build our Model"
   ]
  },
  {
   "cell_type": "code",
   "execution_count": 33,
   "id": "0e2de213",
   "metadata": {},
   "outputs": [],
   "source": [
    "from sklearn.model_selection import train_test_split\n",
    "from sklearn.ensemble import RandomForestRegressor"
   ]
  },
  {
   "cell_type": "code",
   "execution_count": 34,
   "id": "6da64b62",
   "metadata": {},
   "outputs": [],
   "source": [
    "#len(dummy_categoricals)"
   ]
  },
  {
   "cell_type": "code",
   "execution_count": 35,
   "id": "b446727a",
   "metadata": {},
   "outputs": [],
   "source": [
    "X = df.iloc[:,[13,14]]\n",
    "y = df.iloc[:,12]"
   ]
  },
  {
   "cell_type": "code",
   "execution_count": 36,
   "id": "6d3a4286",
   "metadata": {},
   "outputs": [],
   "source": [
    "X_train, X_test, y_train, y_test = train_test_split(X, y, test_size=0.3)"
   ]
  },
  {
   "cell_type": "code",
   "execution_count": 37,
   "id": "d868a07a",
   "metadata": {},
   "outputs": [
    {
     "data": {
      "text/plain": [
       "RandomForestRegressor(oob_score=True)"
      ]
     },
     "execution_count": 37,
     "metadata": {},
     "output_type": "execute_result"
    }
   ],
   "source": [
    "model = RandomForestRegressor(n_estimators=100, oob_score=True)\n",
    "model.fit(X_train,y_train)"
   ]
  },
  {
   "cell_type": "code",
   "execution_count": 38,
   "id": "89d621ca",
   "metadata": {},
   "outputs": [
    {
     "data": {
      "text/plain": [
       "0.8653540741977479"
      ]
     },
     "execution_count": 38,
     "metadata": {},
     "output_type": "execute_result"
    }
   ],
   "source": [
    "model.score(X_test,y_test)"
   ]
  },
  {
   "cell_type": "code",
   "execution_count": 39,
   "id": "23e6d919",
   "metadata": {},
   "outputs": [],
   "source": [
    "y_pred=model.predict(X_test)"
   ]
  },
  {
   "cell_type": "code",
   "execution_count": 40,
   "id": "5341a136",
   "metadata": {},
   "outputs": [
    {
     "name": "stdout",
     "output_type": "stream",
     "text": [
      "R^2: 0.768 (0.208)\n"
     ]
    }
   ],
   "source": [
    "from sklearn import model_selection\n",
    "kfold = model_selection.KFold(n_splits=10, random_state=7, shuffle=True)\n",
    "scoring = 'r2'\n",
    "results = model_selection.cross_val_score(model, X, y, cv=kfold, scoring=scoring)\n",
    "print(\"R^2: %.3f (%.3f)\" % (results.mean(), results.std()))"
   ]
  },
  {
   "cell_type": "code",
   "execution_count": 41,
   "id": "00ee33cb",
   "metadata": {},
   "outputs": [
    {
     "name": "stdout",
     "output_type": "stream",
     "text": [
      "MSE: -4829229666579.726 (3614873902820.039)\n"
     ]
    }
   ],
   "source": [
    "scoring = 'neg_mean_squared_error'\n",
    "results = model_selection.cross_val_score(model, X, y, cv=kfold, scoring=scoring)\n",
    "print(\"MSE: %.3f (%.3f)\" % (results.mean(), results.std()))"
   ]
  },
  {
   "cell_type": "markdown",
   "id": "765453b7",
   "metadata": {},
   "source": [
    "## Make Predictions on the Test Set"
   ]
  },
  {
   "cell_type": "code",
   "execution_count": 42,
   "id": "734face7",
   "metadata": {},
   "outputs": [
    {
     "name": "stdout",
     "output_type": "stream",
     "text": [
      "MAE: -517456.341 (53064.583)\n"
     ]
    }
   ],
   "source": [
    "scoring = 'neg_mean_absolute_error'\n",
    "results = model_selection.cross_val_score(model, X, y, cv=kfold, scoring=scoring)\n",
    "print(\"MAE: %.3f (%.3f)\" % (results.mean(), results.std()))"
   ]
  },
  {
   "cell_type": "code",
   "execution_count": 43,
   "id": "78bf1950",
   "metadata": {},
   "outputs": [
    {
     "name": "stdout",
     "output_type": "stream",
     "text": [
      "Mean Absolute Error: 546135.2\n"
     ]
    }
   ],
   "source": [
    "# Calculate the absolute errors\n",
    "errors = abs(y_pred - y_test)\n",
    "# Print out the mean absolute error (mae)\n",
    "print('Mean Absolute Error:', round(np.mean(errors), 2))"
   ]
  },
  {
   "cell_type": "markdown",
   "id": "e24e7b77",
   "metadata": {},
   "source": [
    "## Interpret Model and Report Results"
   ]
  },
  {
   "cell_type": "code",
   "execution_count": 44,
   "id": "4a18a99f",
   "metadata": {},
   "outputs": [],
   "source": [
    "import pickle\n",
    "# Saving model to disk\n",
    "pickle.dump(model, open('model2.pkl','wb'))\n",
    "\n",
    "# Loading model to compare the results\n",
    "modell = pickle.load(open('model2.pkl','rb'))"
   ]
  },
  {
   "cell_type": "code",
   "execution_count": 45,
   "id": "195e8431",
   "metadata": {},
   "outputs": [
    {
     "name": "stdout",
     "output_type": "stream",
     "text": [
      "Here with 45 number of employees & 45500 hrs or work how much production will we get production of [103819.81] short tonnes\n"
     ]
    }
   ],
   "source": [
    "print(\"Here with 45 number of employees & 45500 hrs or work how much production will we get production of\",model.predict([[45,45500]]),\"short tonnes\")"
   ]
  },
  {
   "cell_type": "code",
   "execution_count": null,
   "id": "adfffe90",
   "metadata": {},
   "outputs": [],
   "source": []
  }
 ],
 "metadata": {
  "kernelspec": {
   "display_name": "Python 3",
   "language": "python",
   "name": "python3"
  },
  "language_info": {
   "codemirror_mode": {
    "name": "ipython",
    "version": 3
   },
   "file_extension": ".py",
   "mimetype": "text/x-python",
   "name": "python",
   "nbconvert_exporter": "python",
   "pygments_lexer": "ipython3",
   "version": "3.8.5"
  }
 },
 "nbformat": 4,
 "nbformat_minor": 5
}
