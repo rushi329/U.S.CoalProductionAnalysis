{
 "cells": [
  {
   "cell_type": "code",
   "execution_count": 1,
   "id": "9909ce6f",
   "metadata": {},
   "outputs": [
    {
     "name": "stdout",
     "output_type": "stream",
     "text": [
      "Requirement already satisfied: fastai==1.0.58 in c:\\users\\shree\\anaconda3\\lib\\site-packages (1.0.58)\n",
      "Requirement already satisfied: requests in c:\\users\\shree\\anaconda3\\lib\\site-packages (from fastai==1.0.58) (2.24.0)\n",
      "Requirement already satisfied: torch>=1.0.0 in c:\\users\\shree\\anaconda3\\lib\\site-packages (from fastai==1.0.58) (1.8.0)\n",
      "Requirement already satisfied: matplotlib in c:\\users\\shree\\appdata\\roaming\\python\\python38\\site-packages (from fastai==1.0.58) (3.4.1)\n",
      "Requirement already satisfied: Pillow in c:\\users\\shree\\anaconda3\\lib\\site-packages (from fastai==1.0.58) (8.0.1)\n",
      "Requirement already satisfied: spacy>=2.0.18 in c:\\users\\shree\\anaconda3\\lib\\site-packages (from fastai==1.0.58) (2.3.5)\n",
      "Requirement already satisfied: beautifulsoup4 in c:\\users\\shree\\anaconda3\\lib\\site-packages (from fastai==1.0.58) (4.9.3)\n",
      "Requirement already satisfied: numpy>=1.15 in c:\\users\\shree\\anaconda3\\lib\\site-packages (from fastai==1.0.58) (1.19.5)\n",
      "Requirement already satisfied: pandas in c:\\users\\shree\\anaconda3\\lib\\site-packages (from fastai==1.0.58) (1.2.4)\n",
      "Requirement already satisfied: scipy in c:\\users\\shree\\anaconda3\\lib\\site-packages (from fastai==1.0.58) (1.5.4)\n",
      "Requirement already satisfied: torchvision in c:\\users\\shree\\anaconda3\\lib\\site-packages (from fastai==1.0.58) (0.9.0)\n",
      "Requirement already satisfied: numexpr in c:\\users\\shree\\anaconda3\\lib\\site-packages (from fastai==1.0.58) (2.7.1)\n",
      "Requirement already satisfied: nvidia-ml-py3 in c:\\users\\shree\\anaconda3\\lib\\site-packages (from fastai==1.0.58) (7.352.0)\n",
      "Requirement already satisfied: packaging in c:\\users\\shree\\anaconda3\\lib\\site-packages (from fastai==1.0.58) (20.4)\n",
      "Requirement already satisfied: pyyaml in c:\\users\\shree\\anaconda3\\lib\\site-packages (from fastai==1.0.58) (5.3.1)\n",
      "Requirement already satisfied: fastprogress>=0.1.19 in c:\\users\\shree\\anaconda3\\lib\\site-packages (from fastai==1.0.58) (1.0.0)\n",
      "Requirement already satisfied: bottleneck in c:\\users\\shree\\anaconda3\\lib\\site-packages (from fastai==1.0.58) (1.3.2)\n",
      "Requirement already satisfied: chardet<4,>=3.0.2 in c:\\users\\shree\\anaconda3\\lib\\site-packages (from requests->fastai==1.0.58) (3.0.4)\n",
      "Requirement already satisfied: certifi>=2017.4.17 in c:\\users\\shree\\anaconda3\\lib\\site-packages (from requests->fastai==1.0.58) (2020.6.20)\n",
      "Requirement already satisfied: urllib3!=1.25.0,!=1.25.1,<1.26,>=1.21.1 in c:\\users\\shree\\anaconda3\\lib\\site-packages (from requests->fastai==1.0.58) (1.25.11)\n",
      "Requirement already satisfied: idna<3,>=2.5 in c:\\users\\shree\\anaconda3\\lib\\site-packages (from requests->fastai==1.0.58) (2.10)\n",
      "Requirement already satisfied: typing-extensions in c:\\users\\shree\\anaconda3\\lib\\site-packages (from torch>=1.0.0->fastai==1.0.58) (3.7.4.3)\n",
      "Requirement already satisfied: cycler>=0.10 in c:\\users\\shree\\anaconda3\\lib\\site-packages (from matplotlib->fastai==1.0.58) (0.10.0)\n",
      "Requirement already satisfied: kiwisolver>=1.0.1 in c:\\users\\shree\\anaconda3\\lib\\site-packages (from matplotlib->fastai==1.0.58) (1.3.0)\n",
      "Requirement already satisfied: pyparsing>=2.2.1 in c:\\users\\shree\\anaconda3\\lib\\site-packages (from matplotlib->fastai==1.0.58) (2.4.7)\n",
      "Requirement already satisfied: python-dateutil>=2.7 in c:\\users\\shree\\anaconda3\\lib\\site-packages (from matplotlib->fastai==1.0.58) (2.8.1)\n",
      "Requirement already satisfied: tqdm<5.0.0,>=4.38.0 in c:\\users\\shree\\anaconda3\\lib\\site-packages (from spacy>=2.0.18->fastai==1.0.58) (4.56.0)\n",
      "Requirement already satisfied: wasabi<1.1.0,>=0.4.0 in c:\\users\\shree\\anaconda3\\lib\\site-packages (from spacy>=2.0.18->fastai==1.0.58) (0.8.2)\n",
      "Requirement already satisfied: catalogue<1.1.0,>=0.0.7 in c:\\users\\shree\\anaconda3\\lib\\site-packages (from spacy>=2.0.18->fastai==1.0.58) (1.0.0)\n",
      "Requirement already satisfied: plac<1.2.0,>=0.9.6 in c:\\users\\shree\\anaconda3\\lib\\site-packages (from spacy>=2.0.18->fastai==1.0.58) (1.1.3)\n",
      "Requirement already satisfied: thinc<7.5.0,>=7.4.1 in c:\\users\\shree\\anaconda3\\lib\\site-packages (from spacy>=2.0.18->fastai==1.0.58) (7.4.5)\n",
      "Requirement already satisfied: srsly<1.1.0,>=1.0.2 in c:\\users\\shree\\anaconda3\\lib\\site-packages (from spacy>=2.0.18->fastai==1.0.58) (1.0.5)\n",
      "Requirement already satisfied: setuptools in c:\\users\\shree\\anaconda3\\lib\\site-packages (from spacy>=2.0.18->fastai==1.0.58) (50.3.1.post20201107)\n",
      "Requirement already satisfied: blis<0.8.0,>=0.4.0 in c:\\users\\shree\\anaconda3\\lib\\site-packages (from spacy>=2.0.18->fastai==1.0.58) (0.7.4)\n",
      "Requirement already satisfied: cymem<2.1.0,>=2.0.2 in c:\\users\\shree\\anaconda3\\lib\\site-packages (from spacy>=2.0.18->fastai==1.0.58) (2.0.5)\n",
      "Requirement already satisfied: murmurhash<1.1.0,>=0.28.0 in c:\\users\\shree\\anaconda3\\lib\\site-packages (from spacy>=2.0.18->fastai==1.0.58) (1.0.5)\n",
      "Requirement already satisfied: preshed<3.1.0,>=3.0.2 in c:\\users\\shree\\anaconda3\\lib\\site-packages (from spacy>=2.0.18->fastai==1.0.58) (3.0.5)\n",
      "Requirement already satisfied: soupsieve>1.2; python_version >= \"3.0\" in c:\\users\\shree\\anaconda3\\lib\\site-packages (from beautifulsoup4->fastai==1.0.58) (2.0.1)\n",
      "Requirement already satisfied: pytz>=2017.3 in c:\\users\\shree\\anaconda3\\lib\\site-packages (from pandas->fastai==1.0.58) (2020.1)\n",
      "Requirement already satisfied: six in c:\\users\\shree\\anaconda3\\lib\\site-packages (from packaging->fastai==1.0.58) (1.15.0)\n"
     ]
    }
   ],
   "source": [
    "!pip install fastai==1.0.58"
   ]
  },
  {
   "cell_type": "code",
   "execution_count": 2,
   "id": "07f419f4",
   "metadata": {},
   "outputs": [
    {
     "name": "stdout",
     "output_type": "stream",
     "text": [
      "Requirement already satisfied: torch==1.8.0 in c:\\users\\shree\\anaconda3\\lib\\site-packages (1.8.0)\n",
      "Requirement already satisfied: torchvision==0.9.0 in c:\\users\\shree\\anaconda3\\lib\\site-packages (0.9.0)\n",
      "Requirement already satisfied: torchaudio==0.8.0 in c:\\users\\shree\\anaconda3\\lib\\site-packages (0.8.0)\n",
      "Requirement already satisfied: numpy in c:\\users\\shree\\anaconda3\\lib\\site-packages (from torch==1.8.0) (1.19.5)\n",
      "Requirement already satisfied: typing-extensions in c:\\users\\shree\\anaconda3\\lib\\site-packages (from torch==1.8.0) (3.7.4.3)\n",
      "Requirement already satisfied: pillow>=4.1.1 in c:\\users\\shree\\anaconda3\\lib\\site-packages (from torchvision==0.9.0) (8.0.1)\n"
     ]
    }
   ],
   "source": [
    "!pip install torch==1.8.0 torchvision==0.9.0 torchaudio==0.8.0"
   ]
  },
  {
   "cell_type": "code",
   "execution_count": 3,
   "id": "6f5b7f9e",
   "metadata": {},
   "outputs": [
    {
     "name": "stderr",
     "output_type": "stream",
     "text": [
      "2021-05-21 14:13:14,680 - apscheduler.scheduler - INFO - Scheduler started\n",
      "2021-05-21 14:16:11,815 - telegram.ext.updater - INFO - Received signal 2 (SIGINT), stopping...\n",
      "2021-05-21 14:16:11,815 - apscheduler.scheduler - INFO - Scheduler has been shut down\n"
     ]
    }
   ],
   "source": [
    "import logging\n",
    "\n",
    "from telegram.ext import Updater, CommandHandler, MessageHandler, Filters\n",
    "\n",
    "# Enable logging\n",
    "logging.basicConfig(format='%(asctime)s - %(name)s - %(levelname)s - %(message)s',\n",
    "                    level=logging.INFO)\n",
    "\n",
    "logger = logging.getLogger(__name__)\n",
    "\n",
    "\n",
    "# Define a few command handlers. These usually take the two arguments update and\n",
    "# context. Error handlers also receive the raised TelegramError object in error.\n",
    "def start(update, context):\n",
    "    \"\"\"Send a message when the command /start is issued.\"\"\"\n",
    "    update.message.reply_text('Hi!')\n",
    "\n",
    "\n",
    "def help(update, context):\n",
    "    \"\"\"Send a message when the command /help is issued.\"\"\"\n",
    "    update.message.reply_text('Help!')\n",
    "\n",
    "\n",
    "def echo(update, context):\n",
    "    \"\"\"Echo the user message.\"\"\"\n",
    "    update.message.reply_text(update.message.text)\n",
    "\n",
    "\n",
    "def error(update, context):\n",
    "    \"\"\"Log Errors caused by Updates.\"\"\"\n",
    "    logger.warning('Update \"%s\" caused error \"%s\"', update, context.error)\n",
    "\n",
    "\n",
    "def main():\n",
    "    \"\"\"Start the bot.\"\"\"\n",
    "    # Create the Updater and pass it your bot's token.\n",
    "    # Make sure to set use_context=True to use the new context based callbacks\n",
    "    # Post version 12 this will no longer be necessary\n",
    "    updater = Updater(\"1850807511:AAE_IxbSNgy7SOocFhSiNrbweAzAlUE4xXo\", use_context=True)\n",
    "\n",
    "    # Get the dispatcher to register handlers\n",
    "    dp = updater.dispatcher\n",
    "\n",
    "    # on different commands - answer in Telegram\n",
    "    dp.add_handler(CommandHandler(\"start\", start))\n",
    "    dp.add_handler(CommandHandler(\"help\", help))\n",
    "\n",
    "    # on noncommand i.e message - echo the message on Telegram\n",
    "    dp.add_handler(MessageHandler(Filters.text, echo))\n",
    "\n",
    "    # log all errors\n",
    "    dp.add_error_handler(error)\n",
    "\n",
    "    # Start the Bot\n",
    "    updater.start_polling()\n",
    "\n",
    "    # Run the bot until you press Ctrl-C or the process receives SIGINT,\n",
    "    # SIGTERM or SIGABRT. This should be used most of the time, since\n",
    "    # start_polling() is non-blocking and will stop the bot gracefully.\n",
    "    updater.idle()\n",
    "\n",
    "\n",
    "if __name__ == '__main__':\n",
    "    main()"
   ]
  },
  {
   "cell_type": "code",
   "execution_count": 6,
   "id": "ce451eb6",
   "metadata": {},
   "outputs": [
    {
     "name": "stdout",
     "output_type": "stream",
     "text": [
      "Enter some num : 4\n",
      "4\n"
     ]
    }
   ],
   "source": [
    "answer=[]\n",
    "a = int(input(\"Enter some num : \"))\n",
    "answer.append(a)\n",
    "print(a)"
   ]
  },
  {
   "cell_type": "code",
   "execution_count": 8,
   "id": "25e6082e",
   "metadata": {},
   "outputs": [
    {
     "name": "stdout",
     "output_type": "stream",
     "text": [
      "Enter num : 5\n"
     ]
    },
    {
     "ename": "AttributeError",
     "evalue": "'int' object has no attribute 'split'",
     "output_type": "error",
     "traceback": [
      "\u001b[1;31m---------------------------------------------------------------------------\u001b[0m",
      "\u001b[1;31mAttributeError\u001b[0m                            Traceback (most recent call last)",
      "\u001b[1;32m<ipython-input-8-e5fc938072fa>\u001b[0m in \u001b[0;36m<module>\u001b[1;34m\u001b[0m\n\u001b[1;32m----> 1\u001b[1;33m \u001b[0ma\u001b[0m\u001b[1;33m,\u001b[0m\u001b[0mb\u001b[0m\u001b[1;33m,\u001b[0m\u001b[0mc\u001b[0m \u001b[1;33m=\u001b[0m \u001b[0mint\u001b[0m\u001b[1;33m(\u001b[0m\u001b[0minput\u001b[0m\u001b[1;33m(\u001b[0m\u001b[1;34m\"Enter num : \"\u001b[0m\u001b[1;33m)\u001b[0m\u001b[1;33m)\u001b[0m\u001b[1;33m.\u001b[0m\u001b[0msplit\u001b[0m\u001b[1;33m(\u001b[0m\u001b[1;33m)\u001b[0m\u001b[1;33m\u001b[0m\u001b[1;33m\u001b[0m\u001b[0m\n\u001b[0m\u001b[0;32m      2\u001b[0m \u001b[0mprint\u001b[0m\u001b[1;33m(\u001b[0m\u001b[0ma\u001b[0m\u001b[1;33m,\u001b[0m\u001b[0mb\u001b[0m\u001b[1;33m,\u001b[0m\u001b[0mc\u001b[0m\u001b[1;33m)\u001b[0m\u001b[1;33m\u001b[0m\u001b[1;33m\u001b[0m\u001b[0m\n",
      "\u001b[1;31mAttributeError\u001b[0m: 'int' object has no attribute 'split'"
     ]
    }
   ],
   "source": [
    "a,b,c = int(input(\"Enter num : \")).split()\n",
    "print(a,b,c)"
   ]
  },
  {
   "cell_type": "code",
   "execution_count": null,
   "id": "d4b8c7fb",
   "metadata": {},
   "outputs": [],
   "source": []
  }
 ],
 "metadata": {
  "kernelspec": {
   "display_name": "Python 3",
   "language": "python",
   "name": "python3"
  },
  "language_info": {
   "codemirror_mode": {
    "name": "ipython",
    "version": 3
   },
   "file_extension": ".py",
   "mimetype": "text/x-python",
   "name": "python",
   "nbconvert_exporter": "python",
   "pygments_lexer": "ipython3",
   "version": "3.8.5"
  }
 },
 "nbformat": 4,
 "nbformat_minor": 5
}
